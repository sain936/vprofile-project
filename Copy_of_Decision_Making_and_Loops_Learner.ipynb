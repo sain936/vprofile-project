{
  "nbformat": 4,
  "nbformat_minor": 0,
  "metadata": {
    "colab": {
      "provenance": []
    },
    "kernelspec": {
      "name": "python3",
      "display_name": "Python 3"
    },
    "language_info": {
      "name": "python"
    }
  },
  "cells": [
    {
      "cell_type": "markdown",
      "source": [
        "# Decision Making\n",
        "Decision making in python is done using conditional statements to control the flow of execution of program "
      ],
      "metadata": {
        "id": "5VxfKpH3O0bf"
      }
    },
    {
      "cell_type": "markdown",
      "source": [
        "## if statement\n",
        "Program will evaluate the condition followed by if statement, if given condition is true, program will execute the block of code indented below if statement, if false it will move to next block of code."
      ],
      "metadata": {
        "id": "a7dIWp2oQPvh"
      }
    },
    {
      "cell_type": "markdown",
      "source": [
        "\n",
        "\n",
        "```\n",
        "#syntax of if statement\n",
        "if test expression:\n",
        "   statement 1\n",
        "   ....\n",
        "   statement n\n",
        "```\n",
        "\n",
        "\n"
      ],
      "metadata": {
        "id": "3Il4Xcans1SD"
      }
    },
    {
      "cell_type": "code",
      "source": [
        "## Write a Conditional Statement with True in if statement \n"
      ],
      "metadata": {
        "colab": {
          "base_uri": "https://localhost:8080/"
        },
        "id": "H9762z-IneEa",
        "outputId": "b757c9e3-63b2-4184-b317-5fdd347df3f3"
      },
      "execution_count": null,
      "outputs": [
        {
          "output_type": "stream",
          "name": "stdout",
          "text": [
            "If statement gets executed\n"
          ]
        }
      ]
    },
    {
      "cell_type": "code",
      "source": [
        "## Write a Conditional Statement with False in if statement \n"
      ],
      "metadata": {
        "colab": {
          "base_uri": "https://localhost:8080/"
        },
        "id": "woSqbWQr7fgi",
        "outputId": "8e0519f2-7dab-4ed5-f9aa-d73d20a95aa0"
      },
      "execution_count": null,
      "outputs": [
        {
          "output_type": "stream",
          "name": "stdout",
          "text": [
            "Else statement gets executed\n"
          ]
        }
      ]
    },
    {
      "cell_type": "code",
      "source": [
        "## Write a Conditional Statement with 1 in if statement \n"
      ],
      "metadata": {
        "colab": {
          "base_uri": "https://localhost:8080/"
        },
        "id": "UXfVc41c9ZjJ",
        "outputId": "0f6aba6f-49d7-4bb3-ee72-3fc03ed87946"
      },
      "execution_count": null,
      "outputs": [
        {
          "output_type": "stream",
          "name": "stdout",
          "text": [
            "If statement gets executed\n"
          ]
        }
      ]
    },
    {
      "cell_type": "code",
      "source": [
        "## Write a Conditional Statement with 0 in if statement \n"
      ],
      "metadata": {
        "colab": {
          "base_uri": "https://localhost:8080/"
        },
        "id": "oEmK19V09mPi",
        "outputId": "6d9c650a-d42a-428c-84a1-0ef1597b2bef"
      },
      "execution_count": null,
      "outputs": [
        {
          "output_type": "stream",
          "name": "stdout",
          "text": [
            "Else statement gets executed\n"
          ]
        }
      ]
    },
    {
      "cell_type": "code",
      "source": [
        "## Write a Conditional Statement with -1 in if statement \n"
      ],
      "metadata": {
        "id": "kqfsew0r9yKB",
        "outputId": "5c9db8af-ccbb-4c9d-cfbe-d969bce63f54",
        "colab": {
          "base_uri": "https://localhost:8080/"
        }
      },
      "execution_count": null,
      "outputs": [
        {
          "output_type": "stream",
          "name": "stdout",
          "text": [
            "If statement gets executed\n"
          ]
        }
      ]
    },
    {
      "cell_type": "code",
      "source": [
        "## Write a Conditional Statement to check if 60 is greater than 50\n"
      ],
      "metadata": {
        "colab": {
          "base_uri": "https://localhost:8080/"
        },
        "id": "m2AZQ89d65ob",
        "outputId": "1afd5669-a5cd-4f28-dabf-ff08be259ecc"
      },
      "execution_count": null,
      "outputs": [
        {
          "output_type": "stream",
          "name": "stdout",
          "text": [
            "If statement gets executed as 60 is greater than 50\n"
          ]
        }
      ]
    },
    {
      "cell_type": "code",
      "execution_count": null,
      "metadata": {
        "colab": {
          "base_uri": "https://localhost:8080/"
        },
        "id": "BMJDcPPFNEWn",
        "outputId": "2dd28e6d-9b80-4fd7-b8a7-c7d28ccc3a11"
      },
      "outputs": [
        {
          "output_type": "stream",
          "name": "stdout",
          "text": [
            "a is greater than b\n"
          ]
        }
      ],
      "source": [
        "# check if variable a which is of integer 60 is greater than variable b which is of 50\n"
      ]
    },
    {
      "cell_type": "code",
      "source": [
        "# check if variable a which is of integer 60 is greater than variable b which is of 150\n"
      ],
      "metadata": {
        "id": "8gGczaeJ8Elb"
      },
      "execution_count": null,
      "outputs": []
    },
    {
      "cell_type": "code",
      "source": [
        "## From the list if 10 is part of it\n",
        "l = [10, 20, 30, 'Relevel']\n",
        "\n"
      ],
      "metadata": {
        "colab": {
          "base_uri": "https://localhost:8080/"
        },
        "id": "ZJvchaqFkqa-",
        "outputId": "38883674-a240-4006-c724-0527f15594ec"
      },
      "execution_count": null,
      "outputs": [
        {
          "output_type": "stream",
          "name": "stdout",
          "text": [
            "List has 10 value\n"
          ]
        }
      ]
    },
    {
      "cell_type": "code",
      "source": [
        "## Check if 'Maharashtra' is in the Dict\n",
        "cities = {'Maharashtra': 'Mumbai', 'Tamil Nadu': 'Chennai', 'Rajasthan': 'Jaipur', 'Punjab': 'Chandigarh', 'Haryana': 'Chandigarh'}\n",
        "\n"
      ],
      "metadata": {
        "colab": {
          "base_uri": "https://localhost:8080/"
        },
        "id": "wL959taBmV28",
        "outputId": "68504c1c-8590-47e7-b784-34df25bb9a38"
      },
      "execution_count": null,
      "outputs": [
        {
          "output_type": "stream",
          "name": "stdout",
          "text": [
            "Dict contains the Maharashtra State\n"
          ]
        }
      ]
    },
    {
      "cell_type": "markdown",
      "source": [
        "## If else statement\n",
        "\n",
        "Program will evaluate the condition followed by if statement, if given condition is true, program will execute the block of code indented below if statement, if false it will execute else block of statement.\n"
      ],
      "metadata": {
        "id": "oWxW8AyxeCXu"
      }
    },
    {
      "cell_type": "markdown",
      "source": [
        "\n",
        "\n",
        "```\n",
        "#syntax of if else statement\n",
        "if test expression:\n",
        "  condition 1\n",
        "  ....\n",
        "  condition n\n",
        "else:\n",
        "  condition 1\n",
        "  ....\n",
        "  condition n\n",
        "```\n",
        "\n"
      ],
      "metadata": {
        "id": "p5vHDLFZtZMt"
      }
    },
    {
      "cell_type": "code",
      "source": [
        "# Check if the price is less than 50\n",
        "price = 100\n",
        "\n"
      ],
      "metadata": {
        "colab": {
          "base_uri": "https://localhost:8080/"
        },
        "id": "2ZjoUzlVed6F",
        "outputId": "93774b01-215b-4838-86c6-0bac2adce09c"
      },
      "execution_count": null,
      "outputs": [
        {
          "output_type": "stream",
          "name": "stdout",
          "text": [
            "price is more than or equal to 50\n"
          ]
        }
      ]
    },
    {
      "cell_type": "code",
      "source": [
        "## From the list if 10 is part of it else print that it does not exist\n",
        "l = [10, 20, 30, 'Relevel']\n",
        "\n"
      ],
      "metadata": {
        "colab": {
          "base_uri": "https://localhost:8080/"
        },
        "id": "Gh-oC0hblDXE",
        "outputId": "a8c3138f-20a5-4659-ae55-206408535c1d"
      },
      "execution_count": null,
      "outputs": [
        {
          "output_type": "stream",
          "name": "stdout",
          "text": [
            "List does not have 100 value\n"
          ]
        }
      ]
    },
    {
      "cell_type": "code",
      "source": [
        "## Check if 'Maharashtra' is in the Dict else print that it does not exist\n",
        "cities = {'Maharashtra': 'Mumbai', 'Tamil Nadu': 'Chennai', 'Rajasthan': 'Jaipur', 'Punjab': 'Chandigarh', 'Haryana': 'Chandigarh'}\n",
        "\n"
      ],
      "metadata": {
        "colab": {
          "base_uri": "https://localhost:8080/"
        },
        "id": "Kz7vptRom_WC",
        "outputId": "6fc518e3-cdba-4686-871b-7b1899e85880"
      },
      "execution_count": null,
      "outputs": [
        {
          "output_type": "stream",
          "name": "stdout",
          "text": [
            "Could not find Mumbai in the dict keys\n"
          ]
        }
      ]
    },
    {
      "cell_type": "markdown",
      "source": [
        "## Nested if else Statement\n",
        "\n",
        "Program will evaluate the condition followed by if statement, if given condition is true, program will execute the block of code indented below if statement, othwerwise it will move to next block of elif statements till one of the elif condition is met."
      ],
      "metadata": {
        "id": "PjeTC8AenVfz"
      }
    },
    {
      "cell_type": "markdown",
      "source": [
        "\n",
        "\n",
        "```\n",
        "#syntax of nested if-else statement\n",
        "if test expression:\n",
        "  condition 1\n",
        "  ....\n",
        "  condition n\n",
        "elif:\n",
        "  condition 1\n",
        "  ....\n",
        "elif:\n",
        "  condition 1\n",
        "  ...\n",
        "else:\n",
        "  condition 1\n",
        "  ...\n",
        "```\n",
        "\n"
      ],
      "metadata": {
        "id": "Jugxa1Vmt622"
      }
    },
    {
      "cell_type": "code",
      "source": [
        "# Find that given integer is positive, negative or Zero.\n",
        "number = -2\n",
        "\n"
      ],
      "metadata": {
        "colab": {
          "base_uri": "https://localhost:8080/"
        },
        "id": "JoRxeSPGwpqx",
        "outputId": "738c64d7-953a-4556-c746-d364709c77a1"
      },
      "execution_count": null,
      "outputs": [
        {
          "output_type": "stream",
          "name": "stdout",
          "text": [
            "number is negative\n"
          ]
        }
      ]
    },
    {
      "cell_type": "code",
      "source": [
        "## From the list if 100, 'relevel', 'Relevel' is part of it else print that it does not exist\n",
        "l = [10, 20, 30, 'Relevel']\n",
        "\n"
      ],
      "metadata": {
        "colab": {
          "base_uri": "https://localhost:8080/"
        },
        "id": "lFX6Khq2lWiE",
        "outputId": "b547018c-5e8f-49c1-af76-447352f7b3a9"
      },
      "execution_count": null,
      "outputs": [
        {
          "output_type": "stream",
          "name": "stdout",
          "text": [
            "List has Relevel value\n"
          ]
        }
      ]
    },
    {
      "cell_type": "markdown",
      "source": [
        "```\n",
        "if ( test condition 1):\n",
        "    # If test condition 1 is TRUE, then it checks for test condition 2\n",
        "    if ( test condition 2):\n",
        "         # If test condition 2 is TRUE, then these true lines executed\n",
        "         Test condition 2 True statements\n",
        "    else:\n",
        "         # If test condition 2 is FALSE, then these false lines executed\n",
        "         Test condition 2 False statements\n",
        "else:\n",
        "    # If test condition 1 is FALSE, then these lines executed\n",
        "    Test condition 1 False lines\n",
        "```"
      ],
      "metadata": {
        "id": "QQY_QOh3pOjA"
      }
    },
    {
      "cell_type": "code",
      "source": [
        "# Example for Python Nested If\n",
        "\n",
        "age = int(input(\" Please Enter Your Age Here:  \"))\n"
      ],
      "metadata": {
        "colab": {
          "base_uri": "https://localhost:8080/"
        },
        "id": "KgyBLUkAoo_z",
        "outputId": "6dc471ab-beb6-4117-d2f1-35103c53b28c"
      },
      "execution_count": null,
      "outputs": [
        {
          "output_type": "stream",
          "name": "stdout",
          "text": [
            " Please Enter Your Age Here:  78\n",
            " You are too old to work as per the Government rules\n",
            " Please Collect your pension!\n"
          ]
        }
      ]
    },
    {
      "cell_type": "markdown",
      "source": [
        "# Loops and Iterations\n",
        "Loops statements help to iterate over a block of code using a condition or iterable object."
      ],
      "metadata": {
        "id": "81hoKhJZx5Kn"
      }
    },
    {
      "cell_type": "markdown",
      "source": [
        "## For Loop\n",
        "For loop is used to iterate over an iterable object like list, string, tuple, sets etc."
      ],
      "metadata": {
        "id": "vrWMoR1CzPka"
      }
    },
    {
      "cell_type": "markdown",
      "source": [
        "\n",
        "\n",
        "```\n",
        "#syntax of for loop\n",
        "for [item] in [iterable object]:\n",
        "  statement 1\n",
        "  ...\n",
        "  statement n\n",
        "```\n",
        "\n"
      ],
      "metadata": {
        "id": "SHsdcqxEzqgF"
      }
    },
    {
      "cell_type": "code",
      "source": [
        "## Sum all the values of the list\n",
        "\n",
        "l = [5, 1, 7, 3]\n",
        "\n",
        "# Method 1\n"
      ],
      "metadata": {
        "colab": {
          "base_uri": "https://localhost:8080/"
        },
        "id": "PdnbactOwCRr",
        "outputId": "634e5341-46df-4c1c-8c67-39c7d8d9daa4"
      },
      "execution_count": null,
      "outputs": [
        {
          "output_type": "stream",
          "name": "stdout",
          "text": [
            "Sum is  16\n"
          ]
        }
      ]
    },
    {
      "cell_type": "code",
      "source": [
        "## Sum all the values of the list using For Loop\n",
        "\n",
        "l = [5, 1, 7, 3]\n",
        "sum = 0\n",
        "\n"
      ],
      "metadata": {
        "colab": {
          "base_uri": "https://localhost:8080/"
        },
        "id": "McktnxzJxUvb",
        "outputId": "25f93954-a85b-4641-de4c-2a3b2cdaa808"
      },
      "execution_count": null,
      "outputs": [
        {
          "output_type": "stream",
          "name": "stdout",
          "text": [
            "Sum is  16\n"
          ]
        }
      ]
    },
    {
      "cell_type": "code",
      "source": [
        "#print all the letters one by one in the word Relevel\n"
      ],
      "metadata": {
        "id": "wAxlIOsczkoS",
        "colab": {
          "base_uri": "https://localhost:8080/"
        },
        "outputId": "d3c55e43-03d8-474f-fce8-bb75471154fb"
      },
      "execution_count": null,
      "outputs": [
        {
          "output_type": "stream",
          "name": "stdout",
          "text": [
            "R\n",
            "e\n",
            "l\n",
            "e\n",
            "v\n",
            "e\n",
            "l\n"
          ]
        }
      ]
    },
    {
      "cell_type": "code",
      "source": [
        "# Iterate all the values of the states from the Dict\n",
        "cities = {'Maharashtra': 'Mumbai', 'Tamil Nadu': 'Chennai', 'Rajasthan': 'Jaipur', 'Punjab': 'Chandigarh', 'Haryana': 'Chandigarh'}\n",
        "\n"
      ],
      "metadata": {
        "colab": {
          "base_uri": "https://localhost:8080/"
        },
        "id": "sebxLxz7r_hZ",
        "outputId": "77b6c2a5-ad83-4f49-fca5-3fdc2324b87f"
      },
      "execution_count": null,
      "outputs": [
        {
          "output_type": "stream",
          "name": "stdout",
          "text": [
            "Maharashtra\n",
            "Tamil Nadu\n",
            "Rajasthan\n",
            "Punjab\n",
            "Haryana\n"
          ]
        }
      ]
    },
    {
      "cell_type": "code",
      "source": [
        "# Iterate all the values of the states and cities from the Dict\n"
      ],
      "metadata": {
        "colab": {
          "base_uri": "https://localhost:8080/"
        },
        "id": "-cAlo9HUsGNs",
        "outputId": "dbbbffe8-aeeb-4eba-b0d8-a965139d1e89"
      },
      "execution_count": null,
      "outputs": [
        {
          "output_type": "stream",
          "name": "stdout",
          "text": [
            "('Maharashtra', 'Mumbai')\n",
            "('Tamil Nadu', 'Chennai')\n",
            "('Rajasthan', 'Jaipur')\n",
            "('Punjab', 'Chandigarh')\n",
            "('Haryana', 'Chandigarh')\n"
          ]
        }
      ]
    },
    {
      "cell_type": "code",
      "source": [
        "# Iterate all the values of the states and cities from the Dict. Extract Key and Value seperately\n"
      ],
      "metadata": {
        "colab": {
          "base_uri": "https://localhost:8080/"
        },
        "id": "pOotUqhWsLPf",
        "outputId": "1856d295-2938-4422-9751-30f0612114f2"
      },
      "execution_count": null,
      "outputs": [
        {
          "output_type": "stream",
          "name": "stdout",
          "text": [
            "Key is Maharashtra , Value is Mumbai\n",
            "Key is Tamil Nadu , Value is Chennai\n",
            "Key is Rajasthan , Value is Jaipur\n",
            "Key is Punjab , Value is Chandigarh\n",
            "Key is Haryana , Value is Chandigarh\n"
          ]
        }
      ]
    },
    {
      "cell_type": "code",
      "source": [
        "## Check if Nest_dict has a key \"Key_1\"\n",
        "Dummy_Dict = {'Key1': 'Value 1', 0: 1, 'Nested_dict': {'Key_1': 'V1', 'Key2': 2}, 'List_Values': [0, 1, 2, 3, 4]}\n",
        "\n"
      ],
      "metadata": {
        "colab": {
          "base_uri": "https://localhost:8080/"
        },
        "id": "FXBQ0gGG-uLw",
        "outputId": "8cca53ac-d042-4096-9521-529c4bbc8c1a"
      },
      "execution_count": null,
      "outputs": [
        {
          "output_type": "stream",
          "name": "stdout",
          "text": [
            "Nested_dict {'Key_1': 'V1', 'Key2': 2}\n",
            "Nest_dict has a key 'Key_1'\n"
          ]
        }
      ]
    },
    {
      "cell_type": "code",
      "source": [
        "# Iterate all the values of the tuple\n",
        "t = (10, 20, 30, 'Relevel')\n",
        "\n"
      ],
      "metadata": {
        "colab": {
          "base_uri": "https://localhost:8080/"
        },
        "id": "MFCmrgf5swzY",
        "outputId": "14b55aa7-f305-4e72-ce7f-8326d7c8e92e"
      },
      "execution_count": null,
      "outputs": [
        {
          "output_type": "stream",
          "name": "stdout",
          "text": [
            "10\n",
            "20\n",
            "30\n",
            "Relevel\n"
          ]
        }
      ]
    },
    {
      "cell_type": "code",
      "source": [
        "# Print the value from 1 to 10 using range function in for loop\n"
      ],
      "metadata": {
        "id": "bBIYvGUAuZev",
        "outputId": "65be7e33-dbe5-4505-9c6c-5a43484b7174",
        "colab": {
          "base_uri": "https://localhost:8080/"
        }
      },
      "execution_count": null,
      "outputs": [
        {
          "output_type": "stream",
          "name": "stdout",
          "text": [
            "1\n",
            "2\n",
            "3\n",
            "4\n",
            "5\n",
            "6\n",
            "7\n",
            "8\n",
            "9\n"
          ]
        }
      ]
    },
    {
      "cell_type": "code",
      "source": [
        "## Iterate following list as a set variable\n",
        "l = [1,2,2,3,3,4]\n",
        "set_var = l\n",
        "\n"
      ],
      "metadata": {
        "colab": {
          "base_uri": "https://localhost:8080/"
        },
        "id": "Kp1qkDw840L5",
        "outputId": "a7445513-adeb-41ac-ba25-60dcc63f2084"
      },
      "execution_count": null,
      "outputs": [
        {
          "output_type": "stream",
          "name": "stdout",
          "text": [
            "1\n",
            "2\n",
            "3\n",
            "4\n"
          ]
        }
      ]
    },
    {
      "cell_type": "markdown",
      "source": [
        "## While Loop\n",
        "While loop will execute the given block of code till the entered test condition is true"
      ],
      "metadata": {
        "id": "uwBiPdbf0h4M"
      }
    },
    {
      "cell_type": "markdown",
      "source": [
        "\n",
        "\n",
        "```\n",
        "# syntax for while loop\n",
        "While [condition true]:\n",
        "      statement 1\n",
        "      ...\n",
        "      statement n\n",
        "```\n",
        "\n"
      ],
      "metadata": {
        "id": "O2fzUFvAWtkA"
      }
    },
    {
      "cell_type": "code",
      "source": [
        "# print all integer from 1 to 5\n"
      ],
      "metadata": {
        "id": "ZdlmV2We1UYv",
        "colab": {
          "base_uri": "https://localhost:8080/"
        },
        "outputId": "00fcc003-09e7-4736-cf8b-186b6ed6543d"
      },
      "execution_count": null,
      "outputs": [
        {
          "output_type": "stream",
          "name": "stdout",
          "text": [
            "1\n",
            "2\n",
            "3\n",
            "4\n",
            "5\n"
          ]
        }
      ]
    },
    {
      "cell_type": "markdown",
      "source": [
        "Write a program to sum natural numbers up to n. <br>\n",
        "```sum = 1+2+3+...+n```"
      ],
      "metadata": {
        "id": "pDMzqh6ey7lh"
      }
    },
    {
      "cell_type": "code",
      "source": [
        "# Write a program to sum natural numbers up to n.\n",
        "# sum = 1+2+3+...+n\n",
        "\n",
        "n = 10\n",
        "\n",
        "# initialize sum and counter\n",
        "sum = 0\n",
        "i = 1\n",
        "\n",
        "\n"
      ],
      "metadata": {
        "colab": {
          "base_uri": "https://localhost:8080/"
        },
        "id": "JVWpeK-fzELX",
        "outputId": "e05aa441-15d5-49e4-9cde-4693de24a93a"
      },
      "execution_count": null,
      "outputs": [
        {
          "output_type": "stream",
          "name": "stdout",
          "text": [
            "The sum is 55\n"
          ]
        }
      ]
    },
    {
      "cell_type": "markdown",
      "source": [
        "## Nested loops\n",
        "\n",
        "Multiple For loops, while loops or combination of for loop and while loops are allowed to used in Python "
      ],
      "metadata": {
        "id": "i-0Qos1-1vcI"
      }
    },
    {
      "cell_type": "markdown",
      "source": [
        "\n",
        "\n",
        "```\n",
        "#syntax for sample nested for loops\n",
        "# outer for loop\n",
        "for [item] in [iterable object]: \n",
        "   # inner for loop\n",
        "   for [item] in [iterable object]:\n",
        "       block of code for inner for loop\n",
        "   block of code for outer for loop\n",
        "```\n",
        "\n"
      ],
      "metadata": {
        "id": "sNtp4NeRgBD6"
      }
    },
    {
      "cell_type": "code",
      "source": [
        "# print the multiplication table till 5 for each item in elements list\n",
        "number = [1,2,3,4,5]\n",
        "elements = [5,10]\n"
      ],
      "metadata": {
        "id": "okhdXOhbg8j8",
        "colab": {
          "base_uri": "https://localhost:8080/"
        },
        "outputId": "4d3b6f38-3a63-4758-cf49-6c6cf454e4a3"
      },
      "execution_count": null,
      "outputs": [
        {
          "output_type": "stream",
          "name": "stdout",
          "text": [
            "*****multiply  5  with integer from 1 to 5\n",
            "5\n",
            "10\n",
            "15\n",
            "20\n",
            "25\n",
            "*****multiply  10  with integer from 1 to 5\n",
            "10\n",
            "20\n",
            "30\n",
            "40\n",
            "50\n"
          ]
        }
      ]
    },
    {
      "cell_type": "code",
      "source": [
        "# print the multiplication table till 5 for each item in elements list\n",
        "number = [1,2,3,4,5]\n",
        "elements = [5,10]\n"
      ],
      "metadata": {
        "colab": {
          "base_uri": "https://localhost:8080/"
        },
        "id": "8kZuN-BLrNDd",
        "outputId": "fbdbc794-3cd1-43f7-8c13-894f98e4dd2c"
      },
      "execution_count": null,
      "outputs": [
        {
          "output_type": "stream",
          "name": "stdout",
          "text": [
            "*****multiply  5  with integer from 1 to 5\n",
            "5\n",
            "20\n",
            "15\n",
            "30\n",
            "25\n",
            "*****multiply  10  with integer from 1 to 5\n",
            "10\n",
            "40\n",
            "30\n",
            "60\n",
            "50\n"
          ]
        }
      ]
    },
    {
      "cell_type": "markdown",
      "source": [
        "# Loop control Statement\n",
        "Loop control statements are used to skip over an iteration or terminate the execution of the Loop without iteration over the whole sequence.\n"
      ],
      "metadata": {
        "id": "7DRl5Bj82QAv"
      }
    },
    {
      "cell_type": "markdown",
      "source": [
        "## Continue Statement\n",
        "continue keyword ends and rejects all the remaining statements for the current iteration and moves to the next iteration in the loop."
      ],
      "metadata": {
        "id": "NomdhDLf2q2M"
      }
    },
    {
      "cell_type": "code",
      "source": [
        "# Print all the letters in word Relevel except letter \"l\"\n"
      ],
      "metadata": {
        "colab": {
          "base_uri": "https://localhost:8080/"
        },
        "id": "KqVvf51nh1ed",
        "outputId": "e9e24ed1-8170-4531-ce70-55b060e18af7"
      },
      "execution_count": null,
      "outputs": [
        {
          "output_type": "stream",
          "name": "stdout",
          "text": [
            "Current Letter : R\n",
            "Current Letter : e\n",
            "Current Letter : e\n",
            "Current Letter : v\n",
            "Current Letter : e\n"
          ]
        }
      ]
    },
    {
      "cell_type": "markdown",
      "source": [
        "## Pass statement\n",
        "Pass statement acts as a null statement and used as a placeholder for peice of code to be written in future"
      ],
      "metadata": {
        "id": "cbgs1JO135bb"
      }
    },
    {
      "cell_type": "code",
      "source": [
        "# print all the letters in the word Relevel except letter \"l\" using pass statement\n",
        "word = \"Relevel\"\n"
      ],
      "metadata": {
        "colab": {
          "base_uri": "https://localhost:8080/"
        },
        "id": "7CRyhBCluFgh",
        "outputId": "0394ca50-b656-4dac-e187-9c6a261269d6"
      },
      "execution_count": null,
      "outputs": [
        {
          "output_type": "stream",
          "name": "stdout",
          "text": [
            "Current Letter : R\n",
            "Current Letter : e\n",
            "Current Letter : e\n",
            "Current Letter : v\n",
            "Current Letter : e\n"
          ]
        }
      ]
    },
    {
      "cell_type": "markdown",
      "source": [
        "## Break Statement\n",
        "Break statement helps to exit the loop from the current running iteration"
      ],
      "metadata": {
        "id": "jpWfzWZY51tF"
      }
    },
    {
      "cell_type": "code",
      "source": [
        "#Display numbers in given list before number 10\n",
        "seq = [2,4,20, 14, 10, 29, 33,7]\n"
      ],
      "metadata": {
        "id": "U8-mOnIA5vX2"
      },
      "execution_count": null,
      "outputs": []
    }
  ]
}