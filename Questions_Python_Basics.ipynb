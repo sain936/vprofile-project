{
  "nbformat": 4,
  "nbformat_minor": 0,
  "metadata": {
    "colab": {
      "provenance": []
    },
    "kernelspec": {
      "name": "python3",
      "display_name": "Python 3"
    },
    "language_info": {
      "name": "python"
    }
  },
  "cells": [
    {
      "cell_type": "markdown",
      "source": [
        "## Text cells\n",
        "This is a **text cell**. You can **double-click** to edit this cell. Text cells\n",
        "use markdown syntax. To learn more, see our [markdown\n",
        "guide](/notebooks/markdown_guide.ipynb).\n",
        "\n",
        "You can also add math to text cells using [LaTeX](http://www.latex-project.org/)\n",
        "to be rendered by [MathJax](https://www.mathjax.org). Just place the statement\n",
        "within a pair of **\\$** signs. For example `$\\sqrt{3x-1}+(1+x)^2$` becomes\n",
        "$\\sqrt{3x-1}+(1+x)^2.$"
      ],
      "metadata": {
        "id": "ZErsTh6pqEvj"
      }
    },
    {
      "cell_type": "markdown",
      "source": [
        "# Comments"
      ],
      "metadata": {
        "id": "Bwy_clUSqXn8"
      }
    },
    {
      "cell_type": "markdown",
      "source": [
        "## Single Line Comments"
      ],
      "metadata": {
        "id": "jobRfOVVi8Xg"
      }
    },
    {
      "cell_type": "code",
      "execution_count": null,
      "metadata": {
        "id": "bZljDFbHX3pu"
      },
      "outputs": [],
      "source": [
        "# Single line comment with #\n"
      ]
    },
    {
      "cell_type": "markdown",
      "source": [
        "## Multi-line string as comment"
      ],
      "metadata": {
        "id": "UYkvAhCRjFLO"
      }
    },
    {
      "cell_type": "code",
      "source": [
        "# Multiline comment with #\n"
      ],
      "metadata": {
        "id": "bQuOojcbfd76"
      },
      "execution_count": null,
      "outputs": []
    },
    {
      "cell_type": "code",
      "source": [
        "# Multiline comment with \"\"\""
      ],
      "metadata": {
        "id": "FeCxk-hB854S"
      },
      "execution_count": null,
      "outputs": []
    },
    {
      "cell_type": "code",
      "source": [
        "# Multiline comment with '''\n"
      ],
      "metadata": {
        "id": "8ihPB5TD9FSf"
      },
      "execution_count": null,
      "outputs": []
    },
    {
      "cell_type": "markdown",
      "source": [
        "# Types of Errors"
      ],
      "metadata": {
        "id": "LFCbJ-5tqbRb"
      }
    },
    {
      "cell_type": "markdown",
      "source": [
        "## Syntax Errors"
      ],
      "metadata": {
        "id": "71opwoyZqh_7"
      }
    },
    {
      "cell_type": "code",
      "source": [
        "print(\"Hello, World)"
      ],
      "metadata": {
        "id": "Ksx2UiSRmJeR"
      },
      "execution_count": null,
      "outputs": []
    },
    {
      "cell_type": "markdown",
      "source": [
        "There are two terms in this message that may be unfamiliar:\n",
        "1. A string literal is text enclosed in quotation marks. \"Hello,\n",
        "World\" is a string literal.\n",
        "2. EOL stands for end of line."
      ],
      "metadata": {
        "id": "xpAgJ0P-qqSb"
      }
    },
    {
      "cell_type": "markdown",
      "source": [
        "## Runtime Errors\n"
      ],
      "metadata": {
        "id": "r-9Yyx-_qtmq"
      }
    },
    {
      "cell_type": "code",
      "source": [
        "print(Hello, World)"
      ],
      "metadata": {
        "id": "srLaWD7Fqalr"
      },
      "execution_count": null,
      "outputs": []
    },
    {
      "cell_type": "markdown",
      "source": [
        "Lines of text called a traceback. <br>\n",
        "<br>\n",
        "\n",
        "Tracebacks are best read from the bottom up:\n",
        "* The last line of the traceback tells you the name of the error and\n",
        "the error message. In this case, a NameError occurred because the\n",
        "name Hello is not defined anywhere.\n",
        "* The second to last line shows you the code that produced the error. This information is more helpful for\n",
        "larger files.\n",
        "* The third to last line tells you the name of the file and the line number so you can go to the exact spot in your code where the error\n",
        "occurred. <br>"
      ],
      "metadata": {
        "id": "I3ulvF9wq7-T"
      }
    },
    {
      "cell_type": "code",
      "source": [
        "# Python code runs line by line so that if there's an error in line, the code before that will run as is\n",
        "print(1)\n",
        "print(2)\n",
        "print(aa) "
      ],
      "metadata": {
        "id": "biW3ICLsxrRT"
      },
      "execution_count": null,
      "outputs": []
    },
    {
      "cell_type": "markdown",
      "source": [
        "# Python keywords\n",
        "\n",
        "Keywords are the reserved words in Python.\n",
        "\n",
        "We cannot use a keyword as a variable name, function name or any other identifier. They are used to define the syntax and structure of the Python language."
      ],
      "metadata": {
        "id": "AARHag0vbFuI"
      }
    },
    {
      "cell_type": "code",
      "source": [
        "help(\"keywords\") ## Except True, False and None rest all are in lower case"
      ],
      "metadata": {
        "id": "uRTA7g0zqxPf"
      },
      "execution_count": null,
      "outputs": []
    },
    {
      "cell_type": "markdown",
      "source": [
        "## Variables and Identifier\n",
        "\n",
        "A variable can have a short name (like a and b) or a more descriptive name (age, weight, gross_sales).\n",
        "\n",
        "Rules for Python variables:\n",
        "\n",
        "* A variable name must start with a letter or the underscore character\n",
        "* A variable name cannot start with a number\n",
        "* A variable name can only contain alpha-numeric characters and underscores (A-z, 0-9, and _ )\n",
        "* Variable names are case-sensitive (age, Age and AGE are three different variables)"
      ],
      "metadata": {
        "id": "qwZZWz2d_lDh"
      }
    },
    {
      "cell_type": "code",
      "source": [
        "# Legal variable names\n"
      ],
      "metadata": {
        "id": "RU8GI8Usb2B_"
      },
      "execution_count": null,
      "outputs": []
    },
    {
      "cell_type": "code",
      "source": [
        "# Legal variable names with different casing\n"
      ],
      "metadata": {
        "id": "94ntAw4JXtqz"
      },
      "execution_count": null,
      "outputs": []
    },
    {
      "cell_type": "code",
      "source": [
        "#Illegal variable names:\n"
      ],
      "metadata": {
        "id": "AsVMORAYXBNV"
      },
      "execution_count": null,
      "outputs": []
    },
    {
      "cell_type": "code",
      "source": [
        "break = 5"
      ],
      "metadata": {
        "id": "b4pRzQP6YKFr"
      },
      "execution_count": null,
      "outputs": []
    },
    {
      "cell_type": "code",
      "source": [
        "return = \"value\""
      ],
      "metadata": {
        "id": "4iGP09UKYyS8"
      },
      "execution_count": null,
      "outputs": []
    },
    {
      "cell_type": "code",
      "source": [
        "# input the favourite alphabet from user using input\n"
      ],
      "metadata": {
        "id": "1wWBLfyhCnU6"
      },
      "execution_count": null,
      "outputs": []
    },
    {
      "cell_type": "code",
      "source": [
        "# Let's add string to the input taken from user using input\n"
      ],
      "metadata": {
        "id": "dzbO0yKQDohk"
      },
      "execution_count": null,
      "outputs": []
    },
    {
      "cell_type": "markdown",
      "source": [
        "# Statement"
      ],
      "metadata": {
        "id": "MJ986hLi5qE7"
      }
    },
    {
      "cell_type": "code",
      "source": [
        "# statement 1\n",
        "                          ## Prints \"Hello, Relevel students\"\n",
        "\n",
        "# statement 2\n",
        "                          ## Assigns the number 30 to variable X\n",
        "\n",
        "# statement 3\n",
        "                          ## Prints the value of variable X"
      ],
      "metadata": {
        "id": "AJjuCAuPvLYl"
      },
      "execution_count": null,
      "outputs": []
    },
    {
      "cell_type": "markdown",
      "source": [
        "# DataTypes"
      ],
      "metadata": {
        "id": "nXMRUQQTErPL"
      }
    },
    {
      "cell_type": "code",
      "source": [
        "# print some of the variables of different datatypes\n",
        "\n",
        "\n",
        "\n",
        "## With type function the type of the datatype can be found out \n"
      ],
      "metadata": {
        "id": "VojC-X2H5nsb"
      },
      "execution_count": null,
      "outputs": []
    },
    {
      "cell_type": "markdown",
      "source": [
        "<h2 style=\"color:Blue\"> Arithmetic Operations"
      ],
      "metadata": {
        "id": "uJIbus7Y_3UW"
      }
    },
    {
      "cell_type": "code",
      "source": [
        "# Take two number and perform arithmetic operations on those number\n"
      ],
      "metadata": {
        "id": "RVrwI5deHb6I"
      },
      "execution_count": null,
      "outputs": []
    },
    {
      "cell_type": "markdown",
      "source": [
        "## Mathematical  operators follow a precedence rule called PEMDAS -<BR>\n",
        "P = parenthesis <br>\n",
        "E = exponents <br>\n",
        "M = multiplication <br>\n",
        "D = division <br>\n",
        "A = addition <br>\n",
        "S = subtraction <br>"
      ],
      "metadata": {
        "id": "Myd3oe-DH8M-"
      }
    },
    {
      "cell_type": "code",
      "source": [
        "print()"
      ],
      "metadata": {
        "id": "lnehEzD2Hcll"
      },
      "execution_count": null,
      "outputs": []
    },
    {
      "cell_type": "markdown",
      "source": [
        "<h2 style=\"color:Blue\"> String Operations\n",
        "\n",
        "String is a collection of characters. The string data is an immutable type which means it cannot be modified."
      ],
      "metadata": {
        "id": "Cuugy03iTEEl"
      }
    },
    {
      "cell_type": "code",
      "source": [
        "# String is initialised by single quotes '' or double quotes \"\"\n"
      ],
      "metadata": {
        "id": "6IiPXwMjTXma"
      },
      "execution_count": null,
      "outputs": []
    },
    {
      "cell_type": "code",
      "source": [
        "# When you write the string in single quotes and if you have a single quote in your string, it might give your error\n"
      ],
      "metadata": {
        "id": "r0PFEXqpTnzV"
      },
      "execution_count": null,
      "outputs": []
    },
    {
      "cell_type": "code",
      "source": [
        "#Now to solve this we can use an escape character like \n"
      ],
      "metadata": {
        "id": "RP3Lb1cdUKN0"
      },
      "execution_count": null,
      "outputs": []
    },
    {
      "cell_type": "code",
      "source": [
        "# Or we can use double quotes\n"
      ],
      "metadata": {
        "id": "ffQ3DsN_UMxb"
      },
      "execution_count": null,
      "outputs": []
    },
    {
      "cell_type": "code",
      "source": [
        "#Now that '\\' escape character which we saw earlier can also be used for other stuff like adding a new line\n"
      ],
      "metadata": {
        "id": "R2dDei9gUQqs"
      },
      "execution_count": null,
      "outputs": []
    },
    {
      "cell_type": "markdown",
      "source": [
        "#### String Concatenation\n",
        "\n",
        "Now apart adding new lines to a string we can also add another to a pre-existing string, let's see how -"
      ],
      "metadata": {
        "id": "D7f8R7KYWJFU"
      }
    },
    {
      "cell_type": "code",
      "source": [
        "#Let's try building a system that could ask for your dinner order\n"
      ],
      "metadata": {
        "id": "KysHV5cPWNGf"
      },
      "execution_count": null,
      "outputs": []
    },
    {
      "cell_type": "markdown",
      "metadata": {
        "id": "1omYsujJhQgH"
      },
      "source": [
        "Congrats on building a simple app using input and string functions. Let's take a step ahead and learn more about string manipulation\n"
      ]
    },
    {
      "cell_type": "markdown",
      "metadata": {
        "id": "2Y8x7ktkjZpA"
      },
      "source": [
        "### String Manipulation"
      ]
    },
    {
      "cell_type": "markdown",
      "metadata": {
        "id": "cECFQMISH4xp"
      },
      "source": [
        "#### Indexing In Strings <br>\n",
        "- Forward indexing starts with 0\n",
        "- Reverse indexing starts with the last character as -1 in a python string\n",
        "- Strings are immutable which, means they cannot be changed once created.\n",
        "- Strings can be modified by slicing a part of it and concatenating with another\n"
      ]
    },
    {
      "cell_type": "code",
      "execution_count": null,
      "metadata": {
        "id": "snVEmNw2H4xq",
        "scrolled": true
      },
      "outputs": [],
      "source": [
        "# Len() function\n"
      ]
    },
    {
      "cell_type": "code",
      "execution_count": null,
      "metadata": {
        "id": "lJ91suAStu67"
      },
      "outputs": [],
      "source": [
        "#Accessing first character\n"
      ]
    },
    {
      "cell_type": "code",
      "execution_count": null,
      "metadata": {
        "id": "b2GSWBq5H4xu"
      },
      "outputs": [],
      "source": [
        "#Accessing first character\n"
      ]
    },
    {
      "cell_type": "code",
      "execution_count": null,
      "metadata": {
        "id": "62uh51-GH4xx"
      },
      "outputs": [],
      "source": [
        "#Accessing last character using negative indexing\n"
      ]
    },
    {
      "cell_type": "code",
      "execution_count": null,
      "metadata": {
        "id": "AOhFNW4lH4x6"
      },
      "outputs": [],
      "source": [
        "# Trying to change the character at index 2\n"
      ]
    },
    {
      "cell_type": "markdown",
      "metadata": {
        "id": "5pdjo9uaH4yH"
      },
      "source": [
        "#### Slicing In Strings\n",
        "- string[start:end:step]\n",
        "end step is not included in the output"
      ]
    },
    {
      "cell_type": "code",
      "execution_count": null,
      "metadata": {
        "id": "CRt_5l_BH4yI"
      },
      "outputs": [],
      "source": [
        "# slicing by specifying start and end index\n",
        "\n",
        "\n",
        "# let's print \"I love\" \n",
        "\n",
        "\n"
      ]
    },
    {
      "cell_type": "code",
      "source": [
        "string_var = \"I love Python Programming\"\n",
        "sliced_var = string_var[-10:-2]\n",
        "print(sliced_var)\n",
        "\n",
        "# let's print \"I love\" \n"
      ],
      "metadata": {
        "id": "2lb1y1CNb55d"
      },
      "execution_count": null,
      "outputs": []
    },
    {
      "cell_type": "code",
      "execution_count": null,
      "metadata": {
        "id": "K2TcXGaXH4yN"
      },
      "outputs": [],
      "source": [
        "# if you want to slice through the start to an index\n"
      ]
    },
    {
      "cell_type": "code",
      "execution_count": null,
      "metadata": {
        "id": "QLB2gkMdH4yS"
      },
      "outputs": [],
      "source": [
        "# check if a substring is present in a string using use of keyword in and not in\n"
      ]
    },
    {
      "cell_type": "markdown",
      "metadata": {
        "id": "r1Ea9iqJH4yZ"
      },
      "source": [
        "#### String methods\n",
        "- upper() - to convert a string to upper cased\n",
        "- lower() - to convert a string to lower cased\n",
        "- strip() - to strip a perticular character in a string\n",
        "- count(substring,begin,end)\n",
        "- index and find\n",
        "- replace\n",
        "- https://docs.python.org/3.7/library/stdtypes.html#string-methods"
      ]
    },
    {
      "cell_type": "code",
      "execution_count": null,
      "metadata": {
        "id": "5fdARzWrH4yZ"
      },
      "outputs": [],
      "source": [
        "# upper() method \n"
      ]
    },
    {
      "cell_type": "code",
      "execution_count": null,
      "metadata": {
        "id": "u8fxNqy1H4yc"
      },
      "outputs": [],
      "source": [
        "# lower() method\n"
      ]
    },
    {
      "cell_type": "code",
      "execution_count": null,
      "metadata": {
        "id": "5ocs12kZH4yf"
      },
      "outputs": [],
      "source": [
        "# rstrip () function\n"
      ]
    },
    {
      "cell_type": "code",
      "execution_count": null,
      "metadata": {
        "id": "is4swCt_H4yi"
      },
      "outputs": [],
      "source": [
        "# removing the special character from the string\n"
      ]
    },
    {
      "cell_type": "code",
      "execution_count": null,
      "metadata": {
        "id": "Pg-tpUwcH4ym"
      },
      "outputs": [],
      "source": [
        "# lstrip() function - remove space or character from the start\n"
      ]
    },
    {
      "cell_type": "code",
      "execution_count": null,
      "metadata": {
        "id": "_S5NKR7BH4yq"
      },
      "outputs": [],
      "source": [
        "# strip() function removes spaces from the start as well as end of the string\n"
      ]
    },
    {
      "cell_type": "code",
      "execution_count": null,
      "metadata": {
        "id": "zePXgN5fH4yw",
        "scrolled": true
      },
      "outputs": [],
      "source": [
        "# using rstrip and lstrip simultaneously\n"
      ]
    },
    {
      "cell_type": "code",
      "execution_count": null,
      "metadata": {
        "id": "8PlpEX41H4yz"
      },
      "outputs": [],
      "source": [
        "# count() Method\n"
      ]
    },
    {
      "cell_type": "code",
      "source": [
        "# Use index string function\n"
      ],
      "metadata": {
        "id": "bSJMqKT4dWzE"
      },
      "execution_count": null,
      "outputs": []
    },
    {
      "cell_type": "code",
      "source": [
        "# Use index string function\n"
      ],
      "metadata": {
        "id": "5TXLtm4ljlR9"
      },
      "execution_count": null,
      "outputs": []
    },
    {
      "cell_type": "code",
      "source": [
        "# Use find string function\n"
      ],
      "metadata": {
        "id": "PLpYYMLTdYAz"
      },
      "execution_count": null,
      "outputs": []
    },
    {
      "cell_type": "code",
      "source": [
        "# Use index string function\n"
      ],
      "metadata": {
        "id": "Tm8cc0Jwjzah"
      },
      "execution_count": null,
      "outputs": []
    },
    {
      "cell_type": "code",
      "source": [
        "# Use replace string function\n"
      ],
      "metadata": {
        "id": "0nywKBTVrDce"
      },
      "execution_count": null,
      "outputs": []
    },
    {
      "cell_type": "markdown",
      "source": [
        "# Functions\n",
        "\n",
        "#### help function\n",
        "help() keyword can be used to invoke the documentation of modules, functions, classes, keywords, etc."
      ],
      "metadata": {
        "id": "nLd6HHxRRxzd"
      }
    },
    {
      "cell_type": "code",
      "source": [
        "# help function for string"
      ],
      "metadata": {
        "id": "F66NEFWdR8ad"
      },
      "execution_count": null,
      "outputs": []
    },
    {
      "cell_type": "markdown",
      "source": [
        "## Streamline Your Print\n",
        "#### using .format\n",
        ".format can be used to aesthetically format multiple substrings in a string"
      ],
      "metadata": {
        "id": "qpJSX-wLOiwn"
      }
    },
    {
      "cell_type": "code",
      "source": [
        "# It is used to specify the raw string.% It is used to perform string formatting.\n",
        "\n",
        "A = \"Data\"\n",
        "B = \"Analysis\"\n",
        "C = \"Python\"\n",
        "D = 5\n",
        "\n"
      ],
      "metadata": {
        "id": "5z3hib_AMdOZ"
      },
      "execution_count": null,
      "outputs": []
    },
    {
      "cell_type": "code",
      "source": [
        "print(\"I am going to learn {0} {1} using {2} in {3} months\".format(A,B,C,D))"
      ],
      "metadata": {
        "id": "53hob3GEOoZ_"
      },
      "execution_count": null,
      "outputs": []
    },
    {
      "cell_type": "markdown",
      "source": [
        "# Type Casting\n",
        "1. **Explicit Conversion**: Using respective function\n",
        "2. **Implicit Conversion**: Using Arithmetic Operations: We can use operations like addition, subtraction to change the type of number implicitly(automatically), if one of the operands is float. \n"
      ],
      "metadata": {
        "id": "nTKTlWMuQY8O"
      }
    },
    {
      "cell_type": "code",
      "source": [
        "### Implicit Conversion\n",
        "\n",
        "\n",
        "  \n",
        "# Addition\n",
        "   # Any time a float is added to a number, the result is another float."
      ],
      "metadata": {
        "id": "QKo_nL-vP-Zc"
      },
      "execution_count": null,
      "outputs": []
    },
    {
      "cell_type": "code",
      "source": [
        "### Explicit Conversion\n"
      ],
      "metadata": {
        "id": "DEaDh0BTai5g"
      },
      "execution_count": null,
      "outputs": []
    },
    {
      "cell_type": "code",
      "source": [],
      "metadata": {
        "id": "x1olknCFas5C"
      },
      "execution_count": null,
      "outputs": []
    }
  ]
}