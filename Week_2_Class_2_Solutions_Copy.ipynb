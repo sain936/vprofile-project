{
  "nbformat": 4,
  "nbformat_minor": 0,
  "metadata": {
    "colab": {
      "provenance": []
    },
    "kernelspec": {
      "name": "python3",
      "display_name": "Python 3"
    },
    "language_info": {
      "name": "python"
    }
  },
  "cells": [
    {
      "cell_type": "markdown",
      "source": [],
      "metadata": {
        "id": "w5MN0PRup-Z7"
      }
    },
    {
      "cell_type": "markdown",
      "source": [
        "**Question-1:**\n",
        "\n",
        "You have to find and print the smallest element of the list given as input. \n",
        "\n",
        "----------------------------------------------------------------------\n",
        "Input:\n",
        "A non-empty list of integers.\n",
        "\n",
        "Output:\n",
        "The smallest integer of the input list.\n",
        "\n",
        "----------------------------------------------------------------------\n",
        "Sample input:\n",
        "[2, -3, 0, 7, 21]\n",
        "\n",
        "Sample output:\n",
        "-3"
      ],
      "metadata": {
        "id": "iKAWX0vSqQGT"
      }
    },
    {
      "cell_type": "markdown",
      "source": [],
      "metadata": {
        "id": "yaqUNoVUqZ50"
      }
    },
    {
      "cell_type": "code",
      "source": [
        "#input have been taken for you here\n",
        "import ast\n",
        "input_str = input()\n",
        "\n",
        "#literal_Eval function helps to safely evaluate strings containing Python values(string, list, dictionar etc) from unknown sources without us having to parse the values\n",
        "input_list = ast.literal_eval(input_str)\n",
        "\n",
        "#start writing your code here\n",
        "# if len(input_list)==0:\n",
        "#     print(\"no minimum\")\n",
        "# else:\n",
        "#     m=input_list[0]\n",
        "#     for item in input_list:\n",
        "#         if item < m:\n",
        "#             m = item\n",
        "#     print(m)\n",
        "\n",
        "\n",
        "print(min(input_list))\n"
      ],
      "metadata": {
        "colab": {
          "base_uri": "https://localhost:8080/"
        },
        "id": "qsGTQ-rYqaj9",
        "outputId": "60c79504-b931-44ac-d3da-d62d2405eebc"
      },
      "execution_count": null,
      "outputs": [
        {
          "output_type": "stream",
          "name": "stdout",
          "text": [
            "[2, -3, 0, 7, 21]\n",
            "-3\n"
          ]
        }
      ]
    },
    {
      "cell_type": "markdown",
      "source": [
        "**Question-2:**\n",
        "\n",
        "Finding the average of the data and comparing it with other values is often encountered while analysing the data. Here you will do the same thing. The data will be provided to you in a list. You will also be given a number check.  You will return whether the number check is above average or no.\n",
        "\n",
        "----------------------------------------------------------------------\n",
        "Input:\n",
        "A list with two elements:\n",
        "The first element will be the list of data of integers and\n",
        "The second element will be an integer check.\n",
        "\n",
        "Output:\n",
        "True if check is above average and False otherwise\n",
        "\n",
        "----------------------------------------------------------------------\n",
        "Sample input:\n",
        "[ [2,4,6,8,10],  4]\n",
        "\n",
        "Sample output:\n",
        "False\n",
        "\n",
        "----------------------------------------------------------------------\n",
        "Sample input:\n",
        "[ [2,4,6,8,-10],  4]\n",
        "\n",
        "Sample output:\n",
        "True"
      ],
      "metadata": {
        "id": "1PJKMhgtq_Zk"
      }
    },
    {
      "cell_type": "code",
      "source": [
        "#Take input here\n",
        "#we will take input using ast sys\n",
        "import ast\n",
        "input_str = input()\n",
        "\n",
        "input_list = ast.literal_eval(input_str)\n",
        "\n",
        "\n",
        "#Lets see if you can finish taking input on your own\n",
        "\n",
        "data= input_list[0]\n",
        "check= input_list[1]\n",
        "\n",
        "#start writing your code to find if check is above average of data \n",
        "s=0\n",
        "for item in data:\n",
        "    s = s+ item\n",
        "\n",
        "avg = s/len(data)    \n",
        "\n",
        "if check > avg:\n",
        "    print(\"True\")\n",
        "else:\n",
        "    print(\"False\")\n",
        "    \n",
        "\n"
      ],
      "metadata": {
        "colab": {
          "base_uri": "https://localhost:8080/"
        },
        "id": "qdMKgw98rICO",
        "outputId": "fbedc90a-b50f-43a1-89b8-962926e46742"
      },
      "execution_count": null,
      "outputs": [
        {
          "output_type": "stream",
          "name": "stdout",
          "text": [
            "[ [2,4,6,8,10], 4]\n",
            "False\n"
          ]
        }
      ]
    },
    {
      "cell_type": "markdown",
      "source": [
        "**Question-3:**\n",
        "\n",
        "Write a code to remove duplicate elements from a list\n",
        "\n",
        "\n",
        "----------------------------------------------------------------------\n",
        "\n",
        "Input:\n",
        "\n",
        "[12, 36, 56, 36, 36, 50, 56, 12] \n",
        "\n",
        "\n",
        "Output:\n",
        "\n",
        "[12, 36, 56, 50, 12] \n"
      ],
      "metadata": {
        "id": "NPcOl3ISr0NT"
      }
    },
    {
      "cell_type": "code",
      "source": [
        "input_str = input()\n",
        "lstnum = ast.literal_eval(input_str)\n",
        "\n",
        "unique_lst = [] \n",
        "[unique_lst.append(ele) for ele in lstnum if ele not in unique_lst] \n",
        "    \n",
        "unique_lst"
      ],
      "metadata": {
        "colab": {
          "base_uri": "https://localhost:8080/"
        },
        "id": "IlNGwgCOr9DF",
        "outputId": "d8c1421b-25c2-4361-b271-afdfa4e587c2"
      },
      "execution_count": null,
      "outputs": [
        {
          "name": "stdout",
          "output_type": "stream",
          "text": [
            "[12, 36, 56, 36, 36, 50, 56, 12]\n"
          ]
        },
        {
          "output_type": "execute_result",
          "data": {
            "text/plain": [
              "[12, 36, 56, 50]"
            ]
          },
          "metadata": {},
          "execution_count": 7
        }
      ]
    },
    {
      "cell_type": "markdown",
      "source": [
        "**Question-4:**\n",
        "\n",
        "You are planning to go to your friend's wedding and you have long events all month, lasting at least a few days. You have the start and end dates of events and your task is to find out events overlapping with the wedding date.\n",
        "\n",
        "The code for taking input has already been written for you, please don't modify that, but do read and try to understand the way input has been taken. You will be asked to take input on your own for most of the problems here onwards. Taking data in a suitable format is an important skill for a Data Scientist.\n",
        "\n",
        "----------------------------------------------------------------------\n",
        "Input:\n",
        "The input will contain a list of lists where each sub-list has only two elements representing the start and end date of an event, the start date will be less than or equal to the end date. The next line of input will have a wedding date. \n",
        "\n",
        "Output:\n",
        "The output should have the number of events overlapping with the wedding date.\n",
        "\n",
        "----------------------------------------------------------------------\n",
        "Sample input:\n",
        "\n",
        "[ [29,31], [23,26], [24,25] ]\n",
        "\n",
        "24\n",
        "\n",
        "Sample output:\n",
        "2\n",
        "\n",
        "Explanation:\n",
        "There are three events in the month.\n",
        "Event 1= from date 29 to 31\n",
        "Event 2= from date 23 to 26\n",
        "Event 3= from date 24 to 25\n",
        "Wedding is on 24. This means it will clash with Event 3 and Event 2, that is two events. The output is therefore 2.\n",
        "\n",
        "----------------------------------------------------------------------\n",
        "Sample input:\n",
        "\n",
        "[ [1, 4], [7, 10], [8, 8], [14, 23] ]\n",
        "\n",
        "26\n",
        "\n",
        "Sample output:\n",
        "0\n",
        "\n"
      ],
      "metadata": {
        "id": "7ABPjz0XsMzN"
      }
    },
    {
      "cell_type": "code",
      "source": [
        "#taking input\n",
        "import ast\n",
        "input_str1 = input()\n",
        "input_list1 = ast.literal_eval(input_str1)\n",
        "events = input_list1\n",
        "\n",
        "wedding = int(input())\n",
        "\n",
        "#start writing from here\n",
        "clash =0\n",
        "\n",
        "for event in events:\n",
        "    if event[0]<=wedding and event[1]>=wedding:\n",
        "        clash= clash+1\n",
        "\n",
        "print(clash)\n"
      ],
      "metadata": {
        "colab": {
          "base_uri": "https://localhost:8080/"
        },
        "id": "YBT93c-VsSIL",
        "outputId": "c871662f-f585-46d5-a053-b3beece60124"
      },
      "execution_count": null,
      "outputs": [
        {
          "output_type": "stream",
          "name": "stdout",
          "text": [
            "[ [29,31], [23,26], [24,25] ]\n",
            "24\n",
            "2\n"
          ]
        }
      ]
    },
    {
      "cell_type": "markdown",
      "source": [
        "**Question-5:**\n",
        "\n",
        "You will be given two positive integers m and n. You have to make a list of lists (which can be visualised as a matrix) of size m*n, that is m sublists (rows), with each sublists having n integers (columns). The matrix should be such that it should have 1 on the border and 0 everywhere else. See sample input and output for more clarification.\n",
        "\n",
        "----------------------------------------------------------------------\n",
        "Input:\n",
        "Two integers separated by a space\n",
        "\n",
        "Output:\n",
        "A list of lists of size m*n printed like matrix as shown in the sample output.\n",
        "\n",
        "----------------------------------------------------------------------\n",
        "Sample input:\n",
        "4,5\n",
        "\n",
        "Sample output:\n",
        "\n",
        "[1, 1, 1, 1, 1]\n",
        "\n",
        "[1, 0, 0, 0, 1]\n",
        "\n",
        "[1, 0, 0, 0, 1]\n",
        "\n",
        "[1, 1, 1, 1, 1]\n",
        "\n",
        "----------------------------------------------------------------------\n",
        "Sample input:\n",
        "3,3\n",
        "\n",
        "Sample output:\n",
        "\n",
        "[1, 1, 1]\n",
        "\n",
        "[1, 0, 1]\n",
        "\n",
        "[1, 1, 1]\n",
        "\n",
        "----------------------------------------------------------------------\n",
        "Sample input:\n",
        "3,2\n",
        "\n",
        "Sample output:\n",
        "\n",
        "[1, 1]\n",
        "\n",
        "[1, 1]\n",
        "\n",
        "[1, 1]\n"
      ],
      "metadata": {
        "id": "1MKFtqN4Ir5q"
      }
    },
    {
      "cell_type": "code",
      "source": [
        "in_str=input()\n",
        "in_str=in_str.split(',')\n",
        "m=int(in_str[0])\n",
        "n=int(in_str[1])\n",
        "\n",
        "#make a list with n zeroes\n",
        "final=[0]*n\n",
        "\n",
        "#make a matrix of m such lists\n",
        "final=[list(final) for i in range(m)]\n",
        "for i in range(m):\n",
        "    for j in range(n):\n",
        "        if i==0 or j==0 or i==m-1 or j==n-1:\n",
        "            final[i][j]=1\n",
        "            \n",
        "#print in the fashion as shown in Sample output\n",
        "for i in final:\n",
        "    print(i)"
      ],
      "metadata": {
        "id": "RSiTGjDDI-7m",
        "colab": {
          "base_uri": "https://localhost:8080/"
        },
        "outputId": "da501f60-667d-4f30-e027-0bc2a09d0304"
      },
      "execution_count": null,
      "outputs": [
        {
          "output_type": "stream",
          "name": "stdout",
          "text": [
            "4,5\n",
            "[1, 1, 1, 1, 1]\n",
            "[1, 0, 0, 0, 1]\n",
            "[1, 0, 0, 0, 1]\n",
            "[1, 1, 1, 1, 1]\n"
          ]
        }
      ]
    },
    {
      "cell_type": "markdown",
      "source": [
        "**Question-6:**\n",
        "\n",
        "Write a Python program to divide a given list into chunks of size k.\n",
        "\n",
        "The number of elements in the list need not to be divisible by k.\n",
        "For example, if you want to divide the list [1,2,3,4,5,6,7] into chunk size k=4, then the first chunk will be [1,2,3,4] and the second one will have [5,6,7]. i.e. the last chunk need not have k elements.\n",
        "The input will have two lines, the first line would have the list and the second line would have the value of k.(the code for taking input has already been written, you should not change that)\n",
        "The final output should have the list chunks in different lines.\n",
        "\n",
        "Sample Input:\n",
        "\n",
        "[[1,2,3,4,5,6,7,8,9], 3]\n",
        "\n",
        "Sample Output:\n",
        "\n",
        "[1, 2, 3]\n",
        "[4, 5, 6]\n",
        "[7, 8, 9]"
      ],
      "metadata": {
        "id": "RV0yPJG-PGZM"
      }
    },
    {
      "cell_type": "code",
      "source": [
        "#take input here\n",
        "import ast\n",
        "input_str = input()\n",
        "input_list = ast.literal_eval(input_str)\n",
        "lis=input_list[0]\n",
        "k=input_list[1]\n",
        "\n",
        "\n",
        "for i in range(0, len(lis), k):  \n",
        "    print(lis[i: i + k]) #remember list comprehension"
      ],
      "metadata": {
        "colab": {
          "base_uri": "https://localhost:8080/"
        },
        "id": "rwVyMmqoPOJ3",
        "outputId": "268cc120-90af-435d-97df-cd4dd46c1e14"
      },
      "execution_count": null,
      "outputs": [
        {
          "output_type": "stream",
          "name": "stdout",
          "text": [
            "[[1,2,3,4,5,6,7,8,9], 3]\n",
            "[1, 2, 3]\n",
            "[4, 5, 6]\n",
            "[7, 8, 9]\n"
          ]
        }
      ]
    },
    {
      "cell_type": "markdown",
      "source": [
        "**Question - 7**\n",
        "\n",
        "Given a list of numbers, find the second largest number in the list.\n",
        "\n",
        "Note: There might be repeated numbers in the list. If there is only one number present in the list, return 'not present'.\n",
        "\n",
        "Examples:\n",
        "\n",
        "Input 1:\n",
        "\n",
        "[7, 2, 0, 9, -1, 8]\n",
        "\n",
        "Output 1:\n",
        "\n",
        "8\n",
        "\n",
        "Input 2:\n",
        "\n",
        "[3, 1, 4, 4, 5, 5, 5, 0, 2, 2]\n",
        "\n",
        "Output 2:\n",
        "\n",
        "4\n",
        "\n",
        "Input 2:\n",
        "\n",
        "[6, 6, 6, 6, 6]\n",
        "\n",
        "Output 2:\n",
        "\n",
        "not present"
      ],
      "metadata": {
        "id": "I2uR6LFqQs6W"
      }
    },
    {
      "cell_type": "code",
      "source": [
        "# Read the input list\n",
        "import ast\n",
        "input_str = input()\n",
        "input_list = ast.literal_eval(input_str)\n",
        "\n",
        "# Write your code here\n",
        "if len(set(input_list))<2:\n",
        "    print('not present')\n",
        "else:\n",
        "    print(sorted(list(set(input_list)))[-2])"
      ],
      "metadata": {
        "colab": {
          "base_uri": "https://localhost:8080/"
        },
        "id": "to7W1H3eQ-ea",
        "outputId": "73d7407e-21f5-4755-ef1c-f6cd0d92846c"
      },
      "execution_count": null,
      "outputs": [
        {
          "output_type": "stream",
          "name": "stdout",
          "text": [
            "[3, 1, 4, 4, 5, 5, 5, 0, 2, 2]\n",
            "4\n"
          ]
        }
      ]
    },
    {
      "cell_type": "markdown",
      "source": [
        "**Question - 8**\n",
        "\n",
        "Given a positive integer n. Print the pattern as shown in sample outputs.\n",
        "\n",
        "A code has already been provided. You have to understand the logic of the code on your own and try and make changes to the code so that it gives correct output.\n",
        "\n",
        "\n",
        "\n",
        "Input: A positive integer n\n",
        "\n",
        "1<= n <=9\n",
        "\n",
        "\n",
        "\n",
        "Output: Pattern as shown in examples below\n",
        "\n",
        "\n",
        "\n",
        "\n",
        "\n",
        "Sample input:\n",
        "\n",
        "4\n",
        "\n",
        "\n",
        "\n",
        "Sample output:\n",
        "\n",
        "4444444\n",
        "\n",
        "4333334\n",
        "\n",
        "4322234\n",
        "\n",
        "4321234\n",
        "\n",
        "4322234\n",
        "\n",
        "4333334\n",
        "\n",
        "4444444\n",
        "\n",
        "\n",
        "\n",
        "Sample input:\n",
        "\n",
        "5\n",
        "\n"
      ],
      "metadata": {
        "id": "ChlXvIQZRVjW"
      }
    },
    {
      "cell_type": "code",
      "source": [
        "n=int(input())\n",
        "answer=[['1']]\n",
        "for i in range(2, n+1):\n",
        "    #print(\"i= \"+str(i))\n",
        "    t=[str(i)]*((2*i)-3)\n",
        "    t2=[str(i)]*((2*i)-3)\n",
        "    answer.insert(0, t2)\n",
        "    answer.append(t)\n",
        "    for a in answer:\n",
        "        a.insert(0,str(i))\n",
        "        a.append(str(i))\n",
        "\n",
        "answerfinal=[]\n",
        "for a in answer:\n",
        "    answerfinal.append(\"\".join(a))\n",
        "for a in answerfinal:\n",
        "    print(a)"
      ],
      "metadata": {
        "colab": {
          "base_uri": "https://localhost:8080/"
        },
        "id": "cvxUytsgRcw_",
        "outputId": "bcfed65f-ed56-440f-b7c9-536fad9d9d9a"
      },
      "execution_count": null,
      "outputs": [
        {
          "output_type": "stream",
          "name": "stdout",
          "text": [
            "4\n",
            "4444444\n",
            "4333334\n",
            "4322234\n",
            "4321234\n",
            "4322234\n",
            "4333334\n",
            "4444444\n"
          ]
        }
      ]
    },
    {
      "cell_type": "markdown",
      "source": [
        "**Question-9**\n",
        "\n",
        "Write a code to get the first element from each nested list of a list\n",
        "\n",
        "Input:\n",
        "\n",
        "[[15, 78, 4],['C#',80,7],['Go','Rust','C++'],['Python',12]]\n",
        "\n",
        "\n",
        "Output:\n",
        "\n",
        "[15, 'C#', 'Go', 'Python']\n"
      ],
      "metadata": {
        "id": "O8efzrIFApNd"
      }
    },
    {
      "cell_type": "code",
      "source": [
        "import ast\n",
        "input_str = input()\n",
        "input_list = ast.literal_eval(input_str)\n",
        "\n",
        "each_list_element = [item[0] for item in input_list] \n",
        " \n",
        "print('first element of each nested list  = ',each_list_element)"
      ],
      "metadata": {
        "colab": {
          "base_uri": "https://localhost:8080/"
        },
        "id": "xCLIWRopAzmQ",
        "outputId": "641dc1b9-8b1c-4b55-a8e5-ed8ea9ee0b9d"
      },
      "execution_count": null,
      "outputs": [
        {
          "output_type": "stream",
          "name": "stdout",
          "text": [
            "[[15, 78, 4],['C#',80,7],['Go','Rust','C++'],['Python',12]]\n",
            "first element of each nested list  =  [15, 'C#', 'Go', 'Python']\n"
          ]
        }
      ]
    },
    {
      "cell_type": "markdown",
      "source": [
        "**Question-10:**\n",
        "\n",
        "Return a set of elements present in Set A or B, but not both\n",
        "\n",
        "\n",
        "Input: \n",
        "\n",
        "setA = {10, 20, 30, 40, 50}\n",
        "\n",
        "setB = {30, 40, 50, 60, 70}\n",
        "\n",
        "\n",
        "Ouput:\n",
        "\n",
        "{20, 70, 10, 60}"
      ],
      "metadata": {
        "id": "MIwCRdtxfMWr"
      }
    },
    {
      "cell_type": "code",
      "source": [
        "# Read the input list\n",
        "import ast\n",
        "input_strA = input()\n",
        "input_strB = input()\n",
        "setA = ast.literal_eval(input_strA)\n",
        "setB = ast.literal_eval(input_strB)\n",
        "\n",
        "print(setA.symmetric_difference(setB))\n"
      ],
      "metadata": {
        "colab": {
          "base_uri": "https://localhost:8080/"
        },
        "id": "qRauPdd5fcHt",
        "outputId": "828418fa-1957-401e-e058-1ae9297123f7"
      },
      "execution_count": null,
      "outputs": [
        {
          "output_type": "stream",
          "name": "stdout",
          "text": [
            "{10, 20, 30, 40, 50}\n",
            "{30, 40, 50, 60, 70}\n",
            "{20, 70, 10, 60}\n"
          ]
        }
      ]
    },
    {
      "cell_type": "markdown",
      "source": [],
      "metadata": {
        "id": "dNIY2sUy5ZX2"
      }
    }
  ]
}