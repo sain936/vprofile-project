{
  "nbformat": 4,
  "nbformat_minor": 0,
  "metadata": {
    "colab": {
      "provenance": []
    },
    "kernelspec": {
      "name": "python3",
      "display_name": "Python 3"
    },
    "language_info": {
      "name": "python"
    }
  },
  "cells": [
    {
      "cell_type": "markdown",
      "source": [],
      "metadata": {
        "id": "sGEgqUhkqc4w"
      }
    },
    {
      "cell_type": "markdown",
      "source": [
        "**Question-1**\n",
        "Sometimes the data has few duplicate values which will affect the analysis done. In this problem, you will be given a list. You have to find and delete the duplicates and print the updated list with no duplicates.\n",
        "\n",
        "----------------------------------------------------------------------\n",
        "Input:\n",
        "A list of integers.\n",
        "\n",
        "Output:\n",
        "A list of integers, with duplicates removed if any.\n",
        "\n",
        "----------------------------------------------------------------------\n",
        "Sample input:\n",
        "[8, 9, 2, 2, 3, 4, 5, 2]\n",
        "\n",
        "Sample output:\n",
        "[8, 9, 2, 3, 4, 5]\n",
        "\n",
        "----------------------------------------------------------------------\n",
        "Sample input:\n",
        "[4, 4, 4, 4]\n",
        "\n",
        "Sample output:\n",
        "[4]\n",
        "\n",
        "----------------------------------------------------------------------\n",
        "Note the order of the data did not change in input and output.\n"
      ],
      "metadata": {
        "id": "SIqLJnGOcXn7"
      }
    },
    {
      "cell_type": "code",
      "source": [
        "#take input b \n",
        "import ast\n",
        "\n",
        "mylist = ast.literal_eval(input())\n",
        "\n",
        "#remove duplicates from the list\n",
        "d = {}\n",
        "\n",
        "for item in mylist:\n",
        "    if item not in d:\n",
        "        d[item]=1\n",
        "#     # else:\n",
        "#     #     d[item]= d[item]+1\n",
        "\n",
        "print(list(d.keys()))\n",
        "\n",
        "#print the list without duplicates\n",
        "\n"
      ],
      "metadata": {
        "colab": {
          "base_uri": "https://localhost:8080/"
        },
        "id": "5EoEzQJJcemG",
        "outputId": "ceebdfb1-fe46-4793-cbf5-70c63515c8e1"
      },
      "execution_count": null,
      "outputs": [
        {
          "output_type": "stream",
          "name": "stdout",
          "text": [
            "[8, 9, 2, 2, 3, 4, 5, 2]\n",
            "[8, 9, 2, 3, 4, 5]\n"
          ]
        }
      ]
    },
    {
      "cell_type": "code",
      "source": [],
      "metadata": {
        "id": "-5N1LGq8cm8l"
      },
      "execution_count": null,
      "outputs": []
    },
    {
      "cell_type": "markdown",
      "source": [
        "**Question-2**\n",
        "\n",
        "You will be converting a dictionary, of string(keys) and list of string (values),  to a list of strings. Please check the sample input/output for clarification.\n",
        "\n",
        "\n",
        "Input:\n",
        "A dictionary with keys as strings and values as a list of strings.\n",
        "\n",
        "Output:\n",
        "A list of strings\n",
        "\n",
        "\n",
        "Sample input:\n",
        "\n",
        "{'Mobile': ['Redmi', 'Samsung', 'Realme'], \n",
        "'Laptop': ['Dell', 'HP'],\n",
        "'TV': ['Videocon', 'Sony'] }\n",
        "\n",
        "Sample output:\n",
        "\n",
        "['Mobile_Redmi', 'Mobile_Samsung', 'Mobile_Realme', 'Laptop_Dell', 'Laptop_HP', 'TV_Videocon', 'TV_Sony']\n",
        "\n",
        "\n",
        "Sample input:\n",
        "\n",
        "{ 'Pen': ['Gel', 'Ink', 'ball'],\n",
        "'Mobile': ['Android', 'apple'] }\n",
        "\n",
        "Sample output:\n",
        "\n",
        "['Pen_Gel', 'Pen_Ink', 'Pen_ball', 'Mobile_Android', 'Mobile_apple']\n"
      ],
      "metadata": {
        "id": "KvxzTPrtcnr7"
      }
    },
    {
      "cell_type": "code",
      "source": [
        "#input has been taken for you\n",
        "import ast\n",
        "input_str = input()\n",
        "#input dictionary has been received in input_dict\n",
        "input_dict = ast.literal_eval(input_str)\n",
        "\n",
        "\n",
        "#start writing your code here\n",
        "final_list=[] #this is the list we will print at the end\n",
        "for key in input_dict.keys(): #we will travel to each key\n",
        "    for word in input_dict[key]:\n",
        "        final_list.append(str(key)+'_'+str(word)) #append the string with key and values with _ \n",
        "\n",
        "print(final_list)\n",
        "\n"
      ],
      "metadata": {
        "colab": {
          "base_uri": "https://localhost:8080/"
        },
        "id": "UmvoqTNicxDM",
        "outputId": "ee98b739-5442-43f5-fda9-a600966c75c7"
      },
      "execution_count": null,
      "outputs": [
        {
          "output_type": "stream",
          "name": "stdout",
          "text": [
            "{'Mobile': ['Redmi', 'Samsung', 'Realme'], 'Laptop': ['Dell', 'HP'], 'TV': ['Videocon', 'Sony'] }\n",
            "['Mobile_Redmi', 'Mobile_Samsung', 'Mobile_Realme', 'Laptop_Dell', 'Laptop_HP', 'TV_Videocon', 'TV_Sony']\n"
          ]
        }
      ]
    },
    {
      "cell_type": "markdown",
      "source": [
        "**Question-3**\n",
        "\n",
        "For the purpose of this question, we will define something called an Relevel string. Note that this definition is not valid outside this question. A Relevel string is the frequency of its characters, something like- 1, 2, 3, 4, .... In this a character appears only once, another appears twice, another appears thrice and so on. For example string '$yrr$ssrsr' is a Relevel string, since the frequency of y:1, $:2, s:3, r:4, however string '$yrr$ssrsr%' will not be Relevel string since it has two characters (y and %) with frequency 1. The frequency of characters should be of form 1, 2, 3, 4, 5... only.\n",
        "Given a string, can you determine if the string is Relevel string or no?\n",
        "\n",
        "\n",
        "Input:\n",
        "\n",
        "A string\n",
        "\n",
        "Output:\n",
        "\n",
        "Boolean depending whether the string is Relevel string or not\n",
        "\n",
        "\n",
        "Sample input:\n",
        "\n",
        "$yrr$ssrsr\n",
        "\n",
        "Sample output:\n",
        "\n",
        "True\n",
        "\n",
        "\n",
        "Sample input:\n",
        "\n",
        "$yrr$ssrsr%\n",
        "\n",
        "Sample output:\n",
        "\n",
        "False\n",
        "\n",
        "Sample input:\n",
        "\n",
        "ab#ab#aba\n",
        "\n",
        "Sample output:\n",
        "\n",
        "False\n",
        "\n",
        "Sample input:\n",
        "\n",
        "ab#ab#ab6a\n",
        "\n",
        "Sample output:\n",
        "\n",
        "True\n"
      ],
      "metadata": {
        "id": "AyPEFsjSeCzH"
      }
    },
    {
      "cell_type": "code",
      "source": [
        "#input has been taken for you\n",
        "s=input()\n",
        "\n",
        "#start writing your code to check if s is Relevel string or no\n",
        "d={}\n",
        "\n",
        "for i in s:\n",
        "    if i not in d:\n",
        "        d[i] =1\n",
        "    else:\n",
        "        d[i] = d[i]+1\n",
        "\n",
        "vals = d.values()\n",
        "\n",
        "n = len(d)\n",
        "\n",
        "def relevel_string(vals):\n",
        "    for i in range(1,n+1):\n",
        "        if i not in vals:\n",
        "            return False\n",
        "    return True\n",
        "\n",
        "print(relevel_string(vals))\n"
      ],
      "metadata": {
        "colab": {
          "base_uri": "https://localhost:8080/"
        },
        "id": "K-39RzCie0Do",
        "outputId": "e2b9f9b4-0440-4f6f-e452-c47db34321d5"
      },
      "execution_count": null,
      "outputs": [
        {
          "output_type": "stream",
          "name": "stdout",
          "text": [
            "ab#ab#aba\n",
            "False\n"
          ]
        }
      ]
    },
    {
      "cell_type": "markdown",
      "source": [
        "**Question-4**\n",
        "\n",
        "You will be given a string with a lot of brackets. You have to print if the brackets are balanced or not. Remember, there are three types of brackets: ‘( )’,  ‘{ }’ and ‘[ ]’.\n",
        "\n",
        "----------------------------------------------------------------------\n",
        "Input:\n",
        "\n",
        "A string\n",
        "\n",
        "Output:\n",
        "\n",
        "Yes, if the brackets are balanced.\n",
        "No otherwise.\n",
        "\n",
        "----------------------------------------------------------------------\n",
        "Sample input:\n",
        "\n",
        "){[[]]}())()\n",
        "\n",
        "Sample output:\n",
        "\n",
        "No\n",
        "\n",
        "----------------------------------------------------------------------\n",
        "Sample input 2:\n",
        "\n",
        "[](){[]()(){}}\n",
        "\n",
        "Sample output 2:\n",
        "\n",
        "Yes\n"
      ],
      "metadata": {
        "id": "zXDTsbmHfDnO"
      }
    },
    {
      "cell_type": "code",
      "source": [
        "#take input\n",
        "inp=input()\n",
        "\n",
        "stack = []\n",
        "\n",
        "for i in inp:\n",
        "    if len(stack)==0:\n",
        "        stack.append(i)\n",
        "    else:\n",
        "        if i==')' and stack[-1]=='(':\n",
        "            stack.pop()\n",
        "        elif i=='}' and stack[-1]=='{':\n",
        "            stack.pop()\n",
        "        elif i==']' and stack[-1]=='[':\n",
        "            stack.pop()\n",
        "        else:\n",
        "            stack.append(i)\n",
        "\n",
        "if stack:\n",
        "    print('No')\n",
        "else:\n",
        "    print('Yes')\n",
        "\n"
      ],
      "metadata": {
        "colab": {
          "base_uri": "https://localhost:8080/"
        },
        "id": "fbGMxA3PfTOF",
        "outputId": "34b0dacf-93ad-4ed0-9473-519e17031da3"
      },
      "execution_count": null,
      "outputs": [
        {
          "output_type": "stream",
          "name": "stdout",
          "text": [
            "{(){}}\n",
            "Yes\n"
          ]
        }
      ]
    },
    {
      "cell_type": "markdown",
      "source": [
        "**Question-5**\n",
        "\n",
        "You will be given a list of repeated elements. You have to find the maximum distance between two same elements. The answer will be zero if there are no repeated elements.\n",
        "\n",
        "----------------------------------------------------------------------\n",
        "Input:\n",
        "A non-empty list of integers.\n",
        "\n",
        "Output:\n",
        "A single integer denoting the maximum distance between two same integers.\n",
        "\n",
        "----------------------------------------------------------------------\n",
        "Sample input:\n",
        "\n",
        "[1, 2, 3, 2, 5, 1, 2, 4, 6, 2, 7, 8, 6]\n",
        "\n",
        "Sample output:\n",
        "\n",
        "8\n",
        "\n",
        "Explanation:\n",
        "\n",
        "Max distance for 1: 5\n",
        "\n",
        "Max distance for 2: 8\n",
        "\n",
        "Max distance for 3: 0\n",
        "\n",
        "Max distance for 4: 0\n",
        "\n",
        "Max distance for 5: 0\n",
        "\n",
        "Max distance for 6: 4\n",
        "\n",
        "Max distance for 7: 0\n",
        "\n",
        "Max distance for 8: 0"
      ],
      "metadata": {
        "id": "YVEB_vE0gAmM"
      }
    },
    {
      "cell_type": "code",
      "source": [
        "#input has been taken for you\n",
        "import ast\n",
        "input_list= ast.literal_eval(input())\n",
        "\n",
        "#start writing your code from here\n",
        "#we will make a dictionary with keys as the elements of the list\n",
        "#and values as a list of the indices of occurances of the the elements\n",
        "\n",
        "d={}\n",
        "for i in range(len(input_list)):\n",
        "    if input_list[i] in d:\n",
        "        d[input_list[i]].append(i)\n",
        "    else:\n",
        "        d[input_list[i]]=[i]\n",
        "\n",
        "#now we just find the difference of first and last element of all the lists in d.values()\n",
        "#the maximum difference will be out answer\n",
        "answer=0\n",
        "\n",
        "for v in d.values():\n",
        "    difference=v[-1] - v[0]\n",
        "    if difference > answer:\n",
        "        answer=difference\n",
        "\n",
        "print(answer)"
      ],
      "metadata": {
        "colab": {
          "base_uri": "https://localhost:8080/"
        },
        "id": "9h0768eTgUoU",
        "outputId": "48dbc07b-f7c5-450b-c58d-f09219349f30"
      },
      "execution_count": null,
      "outputs": [
        {
          "output_type": "stream",
          "name": "stdout",
          "text": [
            "[1, 2, 3, 2, 5, 1, 2, 4, 6, 2, 7, 8, 6]\n",
            "8\n"
          ]
        }
      ]
    },
    {
      "cell_type": "markdown",
      "source": [
        "**Question-6:**\n",
        "\n",
        "You have an array of integers of length n spanning 0 to n with one missing. Write a function missing_number that returns the missing number in the array.\n",
        "\n",
        "Sample Input:\n",
        "\n",
        "[0,1,2,4,5] \n",
        "\n",
        "Sample Output:\n",
        "\n",
        "missing_number(nums) -> 3"
      ],
      "metadata": {
        "id": "jAJt2LlmgbaB"
      }
    },
    {
      "cell_type": "code",
      "source": [
        "import ast\n",
        "mylist = ast.literal_eval(input())\n",
        "\n",
        "def missing_number(nums): \n",
        "    n = len(nums) \n",
        "    total = n*(n+1)/2\n",
        "    sum_of_nums = sum(nums) \n",
        "    return total - sum_of_nums\n",
        "\n",
        "missing_number(mylist)"
      ],
      "metadata": {
        "colab": {
          "base_uri": "https://localhost:8080/"
        },
        "id": "dv_BdgxggkAr",
        "outputId": "148676fc-accb-4728-a676-65aceb12be8f"
      },
      "execution_count": null,
      "outputs": [
        {
          "name": "stdout",
          "output_type": "stream",
          "text": [
            "[0,1,2,4,5]\n"
          ]
        },
        {
          "output_type": "execute_result",
          "data": {
            "text/plain": [
              "3.0"
            ]
          },
          "metadata": {},
          "execution_count": 18
        }
      ]
    },
    {
      "cell_type": "code",
      "source": [],
      "metadata": {
        "id": "sQ1oxs4Agkmb"
      },
      "execution_count": null,
      "outputs": []
    },
    {
      "cell_type": "markdown",
      "source": [
        "**Question-7:**\n",
        "\n",
        "Let’s say there are many vehicles on a long road. At each mile along the road, a checkpoint indicates the length traveled across the road.\n",
        "\n",
        "You are given a list called vehicles which indicates the number of vehicles between each checkpoint. For example, the list [7,4,3] would mean that there are seven vehicles before the first checkpoint, four vehicles between the first and second checkpoints, and three vehicles between the second and third checkpoints.\n",
        "\n",
        "Write a function range_vehicles that will give the number of vehicles between the start and end checkpoints.\n",
        "\n",
        "Note: start may be 0\n",
        "\n",
        "**Input:**\n",
        "\n",
        "vehicles = [5,6,4,2,1]\n",
        "\n",
        "start = 1\n",
        "\n",
        "end = 3\n",
        "\n",
        "**Output:**\n",
        "\n",
        "10"
      ],
      "metadata": {
        "id": "0ZdkQ4vknU9U"
      }
    },
    {
      "cell_type": "code",
      "source": [
        "import ast\n",
        "\n",
        "vehicle_list = ast.literal_eval(input())\n",
        "start_num = int(input())\n",
        "end_num = int(input())\n",
        "\n",
        "\n",
        "def range_vehicles(vehicles, start, end):\n",
        "  return sum(vehicles[start:end])\n",
        "\n",
        "range_vehicles(vehicle_list, start_num, end_num)"
      ],
      "metadata": {
        "colab": {
          "base_uri": "https://localhost:8080/"
        },
        "id": "hdjyisCEgkr-",
        "outputId": "fe3c3c44-33d3-4c6b-ad6a-fb731fe8703e"
      },
      "execution_count": null,
      "outputs": [
        {
          "name": "stdout",
          "output_type": "stream",
          "text": [
            "[5,6,4,2,1]\n",
            "1\n",
            "3\n"
          ]
        },
        {
          "output_type": "execute_result",
          "data": {
            "text/plain": [
              "10"
            ]
          },
          "metadata": {},
          "execution_count": 23
        }
      ]
    },
    {
      "cell_type": "markdown",
      "source": [
        "**Question-8**\n",
        "\n",
        "Given a dictionary with keys of letters and values of a list of letters, write a function closest_key to find the key with the input value closest to the beginning of the list.\n",
        "\n",
        "**Input:**\n",
        "\n",
        "dictionary = {\n",
        "    'a' : ['b','c','e'],\n",
        "    'm' : ['c','e'],\n",
        "}\n",
        "\n",
        "input = 'c'\n",
        "\n",
        "**Ouput:**\n",
        "\n",
        "m"
      ],
      "metadata": {
        "id": "snRncX6So1Cj"
      }
    },
    {
      "cell_type": "code",
      "source": [
        "import ast\n",
        "dict_data = ast.literal_eval(input())\n",
        "string = input()\n",
        "\n",
        "\n",
        "def closest_key(dictionary, input):\n",
        "    return min(dictionary.keys(), key=lambda key: abs(ord(input)-ord(dictionary[key][0])))\n",
        "\n",
        "closest_key(dict_data, string)"
      ],
      "metadata": {
        "id": "PPvD6VWcpSRX"
      },
      "execution_count": null,
      "outputs": []
    },
    {
      "cell_type": "markdown",
      "source": [
        "**Question-9**\n",
        "\n",
        "You are given a string that represents some floating-point number. Write a function, digit_accumulator, that returns the sum of every digit in the string.\n",
        "\n",
        "**Input:**\n",
        "\n",
        "s = \"123.0045\"\n",
        "\n",
        "**Output:**\n",
        "\n",
        "15"
      ],
      "metadata": {
        "id": "6szOQVmNq-bG"
      }
    },
    {
      "cell_type": "code",
      "source": [
        "input_number = input()\n",
        "\n",
        "def digit_accumulator(s):\n",
        "    accumulator = 0\n",
        "    for char in s:\n",
        "        if char in '0123456789':\n",
        "            accumulator += int(char)\n",
        "    return accumulator\n",
        "\n",
        "digit_accumulator(input_number)"
      ],
      "metadata": {
        "colab": {
          "base_uri": "https://localhost:8080/"
        },
        "id": "3e5jMNQErNKY",
        "outputId": "25026bf7-48f0-4447-ab2c-3d459efa708b"
      },
      "execution_count": null,
      "outputs": [
        {
          "name": "stdout",
          "output_type": "stream",
          "text": [
            "\"123.0045\"\n"
          ]
        },
        {
          "output_type": "execute_result",
          "data": {
            "text/plain": [
              "15"
            ]
          },
          "metadata": {},
          "execution_count": 27
        }
      ]
    },
    {
      "cell_type": "markdown",
      "source": [
        "**Question-10**\n",
        "\n",
        "Using the Map function, create a list 'cube', which consists of the cube of numbers in input_list.\n",
        "\n",
        "Input:\n",
        "\n",
        "[5,6,4,8,9] \n",
        "\n",
        "Output:\n",
        "\n",
        "[125, 216, 64, 512, 729]."
      ],
      "metadata": {
        "id": "v6KK37D2ujgE"
      }
    },
    {
      "cell_type": "code",
      "source": [
        "import ast\n",
        "input_list = ast.literal_eval(input())\n",
        "\n",
        "\n",
        "#Write your code here\n",
        "cube = list(map(lambda x: x**3, input_list))\n",
        "print(cube)"
      ],
      "metadata": {
        "colab": {
          "base_uri": "https://localhost:8080/"
        },
        "id": "-2TCIBPYx8BC",
        "outputId": "580ad5d3-e103-4203-99ee-b95a6eb49f81"
      },
      "execution_count": null,
      "outputs": [
        {
          "output_type": "stream",
          "name": "stdout",
          "text": [
            "[5,6,4,8,9]\n",
            "[125, 216, 64, 512, 729]\n"
          ]
        }
      ]
    },
    {
      "cell_type": "markdown",
      "source": [
        "**Question-11**\n",
        "\n",
        "Create a list ‘name’ consisting of the combination of the first name and the second name from list 1 and 2 respectively. \n",
        "\n",
        "\n",
        "Input:\n",
        "\n",
        "[ ['Ankur', 'Avik', 'Kiran', 'Nitin'], ['Narang', 'Sarkar', 'R', 'Sareen']]\n",
        "\n",
        "Output:\n",
        "\n",
        "['Ankur Narang', 'Avik Sarkar', 'Kiran R', 'Nitin Sareen']"
      ],
      "metadata": {
        "id": "9iDWPH2F0717"
      }
    },
    {
      "cell_type": "code",
      "source": [
        "input_list = ast.literal_eval(input())\n",
        "first_name = input_list[0]\n",
        "last_name = input_list[1]\n",
        "\n",
        "name = list(map(lambda x,y: x[0].upper()+x[1:]+' '+y[0].upper()+y[1:],first_name,last_name))\n",
        "\n",
        "print(name)"
      ],
      "metadata": {
        "colab": {
          "base_uri": "https://localhost:8080/"
        },
        "id": "lgANu95x1PfQ",
        "outputId": "2bf04d7b-acfd-415a-e157-bed6a326667d"
      },
      "execution_count": null,
      "outputs": [
        {
          "output_type": "stream",
          "name": "stdout",
          "text": [
            "[ ['Ankur', 'Avik', 'Kiran', 'Nitin'], ['Narang', 'Sarkar', 'R', 'Sareen']]\n",
            "['Ankur Narang', 'Avik Sarkar', 'Kiran R', 'Nitin Sareen']\n"
          ]
        }
      ]
    },
    {
      "cell_type": "markdown",
      "source": [
        "**Question-12**\n",
        "\n",
        "Add the element ‘Python’ to a tuple input_tuple = ('Monty Python', 'British', 1969). "
      ],
      "metadata": {
        "id": "e6o7cXO_2Lvg"
      }
    },
    {
      "cell_type": "code",
      "source": [
        "# Since tuples are immutable, one way to do this is to convert the tuple to a list, add the element, and convert it back to a tuple.\n",
        "\n",
        "input_tuple = ast.literal_eval(input())\n",
        "\n",
        "input_list = list(input_tuple)\n",
        "input_list.append('Python')\n",
        "tuple_2 = tuple(input_list)\n",
        "# Make sure to name the final tuple 'tuple_2'\n",
        "print(tuple_2)"
      ],
      "metadata": {
        "colab": {
          "base_uri": "https://localhost:8080/"
        },
        "id": "ZJjsEOoh2S8y",
        "outputId": "a03e111a-d464-4e53-dea2-e4e29c15f5ae"
      },
      "execution_count": null,
      "outputs": [
        {
          "output_type": "stream",
          "name": "stdout",
          "text": [
            "('Monty Python', 'British', 1969)\n",
            "('Monty Python', 'British', 1969, 'Python')\n"
          ]
        }
      ]
    }
  ]
}