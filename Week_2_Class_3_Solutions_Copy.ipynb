{
  "nbformat": 4,
  "nbformat_minor": 0,
  "metadata": {
    "colab": {
      "provenance": []
    },
    "kernelspec": {
      "name": "python3",
      "display_name": "Python 3"
    },
    "language_info": {
      "name": "python"
    }
  },
  "cells": [
    {
      "cell_type": "markdown",
      "source": [],
      "metadata": {
        "id": "clHCDqZk7Zox"
      }
    },
    {
      "cell_type": "markdown",
      "source": [
        "**Question-1:**\n",
        "\n",
        "Write a program to check whether a string is a palindrome or not. Print 1 if the string is a palindrome and 0 otherwise.\n",
        "\n",
        "Note: Please ensure that your program should not be case-sensitive. So, if the input is, say, “HAnnah”, then, its output should be 1.\n",
        "\n",
        "----------------------------------------------------------------------\n",
        "Input:\n",
        "A string\n",
        "\n",
        "Output:\n",
        "1 if the string is a palindrome, 0 otherwise\n",
        "\n",
        "----------------------------------------------------------------------\n",
        "Sample input:\n",
        "HAnnah\n",
        "\n",
        "Sample output:\n",
        "1\n",
        "\n",
        "----------------------------------------------------------------------\n",
        "Sample input:\n",
        "Rebecca\n",
        "\n",
        "Sample output:\n",
        "0\n"
      ],
      "metadata": {
        "id": "DLnuW95m8V7g"
      }
    },
    {
      "cell_type": "code",
      "source": [
        "# Read the input\n",
        "s = input()\n",
        "\n",
        "#check for palindrome here\n",
        "\n",
        "# Convert all the characters of the string to lowercase so that your program is\n",
        "# not case-sensitive. You can also use 'lower()', alternatively.\n",
        "s = s.lower()\n",
        "\n",
        "# Initialise your reversed string as an empty string and store it in a variable\n",
        "# called \"r\"\n",
        "r =\"\"\n",
        "\n",
        "# Run a loop throughout the length of the string\n",
        "for i in s:\n",
        "# Keep adding the current character to rev_str, i.e. the string reversed so far.\n",
        "# Make sure 'i' is kept before 'r' in the addition process or you will get\n",
        "# the r exactly same as the original string.\n",
        "    r = i+r\n",
        "\n",
        "# Compare the reversed and the original string. If they are the same, the string\n",
        "# is a palindrome; otherwise it is not a palindrome.\n",
        "if r==s:\n",
        "    print(1)\n",
        "else:\n",
        "    print(0)\n"
      ],
      "metadata": {
        "colab": {
          "base_uri": "https://localhost:8080/"
        },
        "id": "JjQ_Ycco8ZZR",
        "outputId": "9bba8dbe-cbec-48e4-cfac-0457c9a0f69d"
      },
      "execution_count": null,
      "outputs": [
        {
          "output_type": "stream",
          "name": "stdout",
          "text": [
            "Rebecca\n",
            "0\n"
          ]
        }
      ]
    },
    {
      "cell_type": "markdown",
      "source": [
        "**Question-2:**\n",
        "\n",
        "You will be given a sentence in the form of a string. You have to reverse the order of the words in the sentence. Remember not to reverse the individual words, but the order of words. Check the sample input-output for further clarification.\n",
        "\n",
        "----------------------------------------------------------------------\n",
        "Input:\n",
        "A string, which will consist of a few spaces.\n",
        "\n",
        "Output:\n",
        "The words in reverse order.\n",
        "\n",
        "----------------------------------------------------------------------\n",
        "Sample input:\n",
        "I love coding in python\n",
        "\n",
        "Sample output:\n",
        "python in coding love I\n",
        "\n",
        "----------------------------------------------------------------------\n",
        "Sample input:\n",
        "python is super easy and fun\n",
        "\n",
        "Sample output:\n",
        "fun and easy super is python"
      ],
      "metadata": {
        "id": "NOFa1pN280sN"
      }
    },
    {
      "cell_type": "code",
      "source": [
        "#take input here\n",
        "#no need to change input as its in string form\n",
        "sentence=input()\n",
        "\n",
        "#reverse the words of the sentence here\n",
        "\n",
        "#first separate the words by spliting with space\n",
        "words = sentence.split(' ')\n",
        "\n",
        "#reversed_list = words[::-1]\n",
        "#reverse this list\n",
        "words.reverse()\n",
        "\n",
        "#join using space\n",
        "final_string = ' '.join(words)\n",
        "\n",
        "print(final_string)\n",
        "\n",
        "\n"
      ],
      "metadata": {
        "colab": {
          "base_uri": "https://localhost:8080/"
        },
        "id": "CBTuIc1J84oz",
        "outputId": "c1e78903-4481-4b54-de29-36de6b17e094"
      },
      "execution_count": null,
      "outputs": [
        {
          "output_type": "stream",
          "name": "stdout",
          "text": [
            "I love coding in python\n",
            "python in coding love I\n"
          ]
        }
      ]
    },
    {
      "cell_type": "markdown",
      "source": [
        "Question-3:\n",
        "\n",
        "While naming entities, it is a common practice to avoid spaces. That is the reason you see so many people using underscores instead of spaces. \n",
        "You will be given a string, containing a few spaces and random upper and lower cases. You have to write a code that will add underscore in place of spaces and also capitalise the letters properly, i.e. the first letter after underscore should be in upper case and the first letter of the string should be in upper case, all of the other letters should be lower case. \n",
        "This type of activity is frequently encountered while starting to analyse data. This is called Data cleaning and you will learn more about it in upcoming modules.\n",
        "\n",
        "----------------------------------------------------------------------\n",
        "Input:\n",
        "A string of only alphabets and spaces\n",
        "\n",
        "Output:\n",
        "A string formatted as stated above. See sample input/output for more clarification,\n",
        "\n",
        "----------------------------------------------------------------------\n",
        "Sample input:\n",
        "caloRie consuMed\n",
        "\n",
        "Sample output:\n",
        "Calorie_Consumed\n",
        "\n",
        "----------------------------------------------------------------------\n",
        "Sample input:\n",
        "data science\n",
        "\n",
        "Sample output:\n",
        "Data_Science\n"
      ],
      "metadata": {
        "id": "nw1e5cFv9QUu"
      }
    },
    {
      "cell_type": "code",
      "source": [
        "#take input here\n",
        "s=input()\n",
        "\n",
        "#write code to format the string s as asked \n",
        "\n",
        "#first change the all characters to lower\n",
        "s= s.lower()\n",
        "\n",
        "#split it with space\n",
        "words = s.split(' ')\n",
        "\n",
        "#make all of them capital at first letter\n",
        "#final_list = [word[0].upper() + word[1:] for word in words]\n",
        "final_list = [word.title() for word in words]\n",
        "\n",
        "#join using _ \n",
        "final_string = '_'.join(final_list)\n",
        "\n",
        "print(final_string)\n",
        "\n"
      ],
      "metadata": {
        "colab": {
          "base_uri": "https://localhost:8080/"
        },
        "id": "ZHClvobG97wJ",
        "outputId": "ce9481b0-b778-430a-ab19-a8150df119e6"
      },
      "execution_count": null,
      "outputs": [
        {
          "output_type": "stream",
          "name": "stdout",
          "text": [
            "data science\n",
            "Data_Science\n"
          ]
        }
      ]
    },
    {
      "cell_type": "markdown",
      "source": [
        "**Question-4:**\n",
        "\n",
        "Write a program that receives a string and shifts all the vowels present in it to the beginning. Output the resultant string. The order of all the vowels with respect to each other as well as the order of all the other characters with respect to each other should stay the same.\n",
        "\n",
        "----------------------------------------------------------------------\n",
        "Input:\n",
        "A string\n",
        "\n",
        "Output:\n",
        "Vowels shifted to the beginning in the input string.\n",
        "\n",
        "----------------------------------------------------------------------\n",
        "Sample input:\n",
        "\n",
        "programming\n",
        "\n",
        "Sample output:\n",
        "\n",
        "oaiprgrmmng\n",
        "\n",
        "----------------------------------------------------------------------\n",
        "Sample input:\n",
        "\n",
        "You love Python!\n",
        "\n",
        "Sample output:\n",
        "\n",
        "ouoeoY lv Pythn!\n",
        "\n",
        "----------------------------------------------------------------------\n",
        "Explanation:\n",
        "All the vowels have been shifted to the beginning in order. The order of all the other characters remains the same."
      ],
      "metadata": {
        "id": "iD7tlUtN-x6Z"
      }
    },
    {
      "cell_type": "code",
      "source": [
        "# Read the input string \n",
        "s = input()\n",
        "\n",
        "\n",
        "vowel = \"\"\n",
        "others = \"\"\n",
        "\n",
        "\n",
        "for i in range(len(s)):\n",
        "    \n",
        "\n",
        "    if s[i] in \"aeiou\":\n",
        "        vowel = vowel + s[i]\n",
        "        \n",
        "#\n",
        "    else:\n",
        "        others = others + s[i]\n",
        "\n",
        "    \n",
        "final = vowel + others\n",
        "\n",
        "# Print the value of the final string\n",
        "print(final)"
      ],
      "metadata": {
        "colab": {
          "base_uri": "https://localhost:8080/"
        },
        "id": "86Zb3VmYBF4y",
        "outputId": "f99a6685-2b24-4f23-c369-1285290c9139"
      },
      "execution_count": null,
      "outputs": [
        {
          "output_type": "stream",
          "name": "stdout",
          "text": [
            "You love Python!\n",
            "ouoeoY lv Pythn!\n"
          ]
        }
      ]
    },
    {
      "cell_type": "markdown",
      "source": [
        "**Question-5:**\n",
        "\n",
        "Description\n",
        "You will be given two strings. You have to find the largest prefix common in both the strings.\n",
        "\n",
        "----------------------------------------------------------------------\n",
        "Input:\n",
        "Two lines of input, one string on each line\n",
        "\n",
        "Output:\n",
        "The common largest prefix for both strings. Check sample input/output for clarification. -1 if no prefix is common.\n",
        "\n",
        "----------------------------------------------------------------------\n",
        "Sample input:\n",
        "\n",
        "abshdksajd\n",
        "\n",
        "abshiehand\n",
        "\n",
        "Sample output:\n",
        "\n",
        "absh\n",
        "\n",
        "----------------------------------------------------------------------\n",
        "Sample input:\n",
        "\n",
        "relevelData\n",
        "\n",
        "RelevelScience\n",
        "\n",
        "Sample output:\n",
        "Relevel\n"
      ],
      "metadata": {
        "id": "gcCNtpSABZuc"
      }
    },
    {
      "cell_type": "code",
      "source": [
        "#input has been taken for you\n",
        "\n",
        "string1=input()\n",
        "string2=input()\n",
        "\n",
        "#make them all lower\n",
        "string1 = string1.lower()\n",
        "string2 = string2.lower()\n",
        "\n",
        "#start writing your code to find largest common prefix here\n",
        "#first we find the length of smaller string as that can be the longest prefix possible\n",
        "#checking beyond that is pointless\n",
        "l1 = len(string1)\n",
        "l2 = len(string2)\n",
        "min_len = min(l1,l2)\n",
        "\n",
        "#we will check all characters one by one upto min_len in both strings and \n",
        "#break the loop whereever we find that they are not matching\n",
        "for i in range(min_len):\n",
        "    if string1[i] != string2[i]:\n",
        "        break\n",
        "#if i is zero, that means first element is not matching\n",
        "#value of i here indicate what index is not matching\n",
        "if i==0:\n",
        "    print(-1)\n",
        "#if there is atleast one matching prefixx string\n",
        "else:\n",
        "    print(string1[:i])\n"
      ],
      "metadata": {
        "id": "e4koNdeuBzBO",
        "colab": {
          "base_uri": "https://localhost:8080/"
        },
        "outputId": "724858d8-f9af-43ec-806a-848e959944c9"
      },
      "execution_count": null,
      "outputs": [
        {
          "output_type": "stream",
          "name": "stdout",
          "text": [
            "relevelData\n",
            "RelevelScience\n",
            "relevel\n"
          ]
        }
      ]
    },
    {
      "cell_type": "markdown",
      "source": [
        "**Question-6:**\n",
        "\n",
        "Two strings are anagrams of each other if you can rearrange the characters of one string to make the other string.\n",
        "Given two strings, can you find if they are anagrams or no?\n",
        "\n",
        "----------------------------------------------------------------------\n",
        "Input:\n",
        "Two lines of input, each line will contain a string without space.\n",
        "\n",
        "Output:\n",
        "True or False based on whether the strings are anagrams or not.\n",
        "\n",
        "----------------------------------------------------------------------\n",
        "Sample input:\n",
        "\n",
        "thing\n",
        "\n",
        "night\n",
        "\n",
        "Sample output:\n",
        "True\n",
        "\n",
        "----------------------------------------------------------------------\n",
        "Sample input:\n",
        "\n",
        "relevel\n",
        "\n",
        "found\n",
        "\n",
        "Sample output:\n",
        "False\n",
        "\n",
        "----------------------------------------------------------------------\n",
        "Note: the code will be case-Sensitive\n",
        "Hint: if the length of the strings doesn't match, the strings are obviously not anagrams.\n"
      ],
      "metadata": {
        "id": "Kcb04x9UCNmw"
      }
    },
    {
      "cell_type": "code",
      "source": [
        "#take input here\n",
        "s1 = input()\n",
        "s2 = input()\n",
        "\n",
        "#code here to check if they are anagrams or no\n",
        "\n",
        "def anagram(s1,s2):\n",
        "    #if length doesnt match then they are definitely not anagrams\n",
        "    if len(s1)!=len(s2):\n",
        "        return False\n",
        "    \n",
        "    #we will check count of each character one by one\n",
        "    for i in range(len(s1)):\n",
        "        if s1.count(s1[i]) != s2.count(s1[i]):\n",
        "            return False\n",
        "   #if we come out of the for loop means we didnt exit the function in loop\n",
        "   #remember we exit the function when we return\n",
        "   #this means there was no occurance where s1.count(s1[i]) != s2.count(s1[i]) was True\n",
        "   #this means the strings are anagrams\n",
        "    return True\n",
        "\n",
        "print(anagram(s1,s2))\n"
      ],
      "metadata": {
        "id": "6NFB9106Cayj",
        "colab": {
          "base_uri": "https://localhost:8080/"
        },
        "outputId": "adefc38e-d5da-4ca2-e472-327cd020122a"
      },
      "execution_count": null,
      "outputs": [
        {
          "output_type": "stream",
          "name": "stdout",
          "text": [
            "thing\n",
            "night\n",
            "True\n"
          ]
        }
      ]
    },
    {
      "cell_type": "markdown",
      "source": [
        "**Question-7**\n",
        "\n",
        "Given two strings, one of the strings will contain an extra character. Find the extra character. The number of all the other characters in both the strings will be the same. Check the sample input/output for more clarification.\n",
        "\n",
        "The code will be case sensitive.\n",
        "\n",
        "----------------------------------------------------------------------\n",
        "Input:\n",
        "\n",
        "Two strings on two separate lines. \n",
        "\n",
        "Output:\n",
        "\n",
        "One Character which is extra in one of the strings\n",
        "\n",
        "----------------------------------------------------------------------\n",
        "Sample input:\n",
        "\n",
        "abcd\n",
        "\n",
        "cedab\n",
        "\n",
        "Sample output:\n",
        "\n",
        "e"
      ],
      "metadata": {
        "id": "CHSbVt0AYnGN"
      }
    },
    {
      "cell_type": "code",
      "source": [
        "#take input on your own\n",
        "string1=input()\n",
        "string2=input()\n",
        "\n",
        "\n",
        "#write code to find the extra character here\n",
        "\n",
        "#we will iterate over longer string\n",
        "#first we find longer string\n",
        "if len(string2)>len(string1):\n",
        "    longer=string2\n",
        "else:\n",
        "    longer=string1\n",
        "#we then iterate over longer string checking count\n",
        "#of that character in both strings\n",
        "\n",
        "for i in longer:\n",
        "    if string1.count(i)!=string2.count(i):\n",
        "        print(i)\n",
        "        break\n",
        "    "
      ],
      "metadata": {
        "colab": {
          "base_uri": "https://localhost:8080/"
        },
        "id": "y4Xgi0QGAXnK",
        "outputId": "e6334797-1827-45cc-d55d-81d594442b00"
      },
      "execution_count": null,
      "outputs": [
        {
          "output_type": "stream",
          "name": "stdout",
          "text": [
            "abcd\n",
            "cedab\n",
            "e\n"
          ]
        }
      ]
    },
    {
      "cell_type": "markdown",
      "source": [
        "**Question - 8**\n",
        "\n",
        "Write a program that computes the value of n+nn+nnn+nnnn+... nn...n ntimes with a given number as the value of n.\n",
        "\n",
        "\n",
        "Input:\n",
        "\n",
        "3\n",
        "\n",
        "you have to find the value of 3+33+333\n",
        "\n",
        "Output:\n",
        "\n",
        "369\n",
        "\n",
        "Input:\n",
        "\n",
        "10\n",
        "\n",
        "you have to find the value of 10 + 1010 + 101010 + 10101010 + 1010101010 + 101010101010 + 10101010101010 + 1010101010101010 +101010101010101010+ 10101010101010101010\n",
        "\n",
        "Output:\n",
        "\n",
        "10203040506070809100"
      ],
      "metadata": {
        "id": "QWtylKn0A_kq"
      }
    },
    {
      "cell_type": "code",
      "source": [
        "n=int(input())\n",
        "\n",
        "#start writing your code here\n",
        "def fuzzy_sum(n):\n",
        "    count = 0\n",
        "    s = 0\n",
        "    if n <1:\n",
        "        print('incorrect input')\n",
        "# we are using while loop till the value in count variable becomes equal to the input variable\n",
        "    while count < n:\n",
        "        count += 1\n",
        "# in this step, we are converting the input number to string. This will help us to create the fuzzy some logic. For example, if we get input as 3 and we convert it into string and then we multiply by let's say 2. It will give output as 33\n",
        "        a = str(n)*count\n",
        "# here we are converting the string back to numeric and adding it to the sum\n",
        "        s = s + int(a)\n",
        "    return s\n",
        "\n",
        "print(fuzzy_sum(n))"
      ],
      "metadata": {
        "colab": {
          "base_uri": "https://localhost:8080/"
        },
        "id": "Fg2OikCUBGoW",
        "outputId": "052615d7-3b35-4492-80ce-a8e6ad84da38"
      },
      "execution_count": null,
      "outputs": [
        {
          "output_type": "stream",
          "name": "stdout",
          "text": [
            "10\n",
            "10203040506070809100\n"
          ]
        }
      ]
    },
    {
      "cell_type": "markdown",
      "source": [
        "**Question -9**\n",
        "\n",
        "While extracting data from different sources, often numeric values come in string format and with commas like 1,000 or 23,321 and also sometimes with spaces in start and beginning of the string. For simplicity, we will consider only integer values imbedded with commas. You will take the input and print the cleaned integer without commas and spaces.\n",
        "\n",
        "----------------------------------------------------------------------\n",
        "Input:\n",
        "\n",
        "One line input of string, it will consist of only spaces commas and digits\n",
        "\n",
        "Output:\n",
        "\n",
        "Cleaned number\n",
        "\n",
        "----------------------------------------------------------------------\n",
        "Sample input:\n",
        "\n",
        "         3,213\n",
        "\n",
        "Sample output:\n",
        "\n",
        "3213\n",
        "\n",
        "----------------------------------------------------------------------\n",
        "Sample input:\n",
        "\n",
        "4,68,72,352          \n",
        "\n",
        "Sample output:\n",
        "\n",
        "46872352\n",
        "\n",
        "----------------------------------------------------------------------\n",
        "Note: Spaces will be either in the start or at the end."
      ],
      "metadata": {
        "id": "YIynM0UUBwXi"
      }
    },
    {
      "cell_type": "code",
      "source": [
        "#input has been taken  for you\n",
        "value=input()\n",
        "\n",
        "#start writing your code from here\n",
        "\n",
        "#first we strip all the spaces\n",
        "value=value.strip()\n",
        "\n",
        "#we will split it at commas and then join it back and then convert to int\n",
        "value_list=value.split(',')\n",
        "final_value= int( ''.join(value_list) )\n",
        "print(final_value)\n",
        "\n",
        "\n"
      ],
      "metadata": {
        "colab": {
          "base_uri": "https://localhost:8080/"
        },
        "id": "d45uOLT3B7f4",
        "outputId": "6d31d2f9-22ee-442d-b97d-86d53f2a5723"
      },
      "execution_count": null,
      "outputs": [
        {
          "output_type": "stream",
          "name": "stdout",
          "text": [
            "     3,213\n",
            "3213\n"
          ]
        }
      ]
    },
    {
      "cell_type": "markdown",
      "source": [
        "**Question-10**\n",
        "\n",
        "Write a program to print 1 to 10 but skip number 7\n",
        "\n"
      ],
      "metadata": {
        "id": "AajjYltYPxq0"
      }
    },
    {
      "cell_type": "code",
      "source": [
        "# loop from 1 to 10 \n",
        "for i in range(1, 11): \n",
        "    \n",
        "    # If i is equals to 6,   \n",
        "    # continue to next iteration   \n",
        "    # without printing  \n",
        "    if i == 7: \n",
        "        continue\n",
        "    else: \n",
        "        # otherwise print the value \n",
        "        # of i \n",
        "        print(i, end = \" \")"
      ],
      "metadata": {
        "colab": {
          "base_uri": "https://localhost:8080/"
        },
        "id": "n8RjbxLBRizb",
        "outputId": "69600179-7dca-4c55-8bc8-8ec055beb937"
      },
      "execution_count": null,
      "outputs": [
        {
          "output_type": "stream",
          "name": "stdout",
          "text": [
            "1 2 3 4 5 6 8 9 10 "
          ]
        }
      ]
    },
    {
      "cell_type": "markdown",
      "source": [
        "**Question-11:**\n",
        "\n",
        "\n",
        "Write a program to determine the week day from the day number. \n",
        "\n",
        "Assume you get an input between 0 to 6 and you have to convert the day into the day name. Mapping is as follows:\n",
        "\n",
        "0: Mon\n",
        "\n",
        "1: Tue\n",
        "\n",
        "2: Wed\n",
        "\n",
        "3: Thu\n",
        "\n",
        "4: Fri\n",
        "\n",
        "5: Sat\n",
        "\n",
        "6: Sun"
      ],
      "metadata": {
        "id": "gG7SbHVKS22H"
      }
    },
    {
      "cell_type": "code",
      "source": [
        "daynum = int(input())\n",
        "\n",
        "# create a dictionary map with daynumber to day mapping\n",
        "dict_days = {\n",
        "    0: 'Mon',\n",
        "    1: 'Tue',\n",
        "    2: 'Wed',\n",
        "    3: 'Thu',\n",
        "    4: 'Fri',\n",
        "    5: 'Sat',\n",
        "    6: 'Sun'\n",
        "}\n",
        "\n",
        "dict_days[daynum]"
      ],
      "metadata": {
        "colab": {
          "base_uri": "https://localhost:8080/",
          "height": 53
        },
        "id": "dPDK6C3vTcYp",
        "outputId": "ca24bead-d6bf-4147-de50-2b8ee55fdc79"
      },
      "execution_count": null,
      "outputs": [
        {
          "name": "stdout",
          "output_type": "stream",
          "text": [
            "3\n"
          ]
        },
        {
          "output_type": "execute_result",
          "data": {
            "text/plain": [
              "'Thu'"
            ],
            "application/vnd.google.colaboratory.intrinsic+json": {
              "type": "string"
            }
          },
          "metadata": {},
          "execution_count": 6
        }
      ]
    },
    {
      "cell_type": "markdown",
      "source": [],
      "metadata": {
        "id": "q5C5ztyFBG59"
      }
    }
  ]
}