{
  "nbformat": 4,
  "nbformat_minor": 0,
  "metadata": {
    "colab": {
      "provenance": []
    },
    "kernelspec": {
      "name": "python3",
      "display_name": "Python 3"
    },
    "language_info": {
      "name": "python"
    }
  },
  "cells": [
    {
      "cell_type": "markdown",
      "source": [
        "# List Comprehension"
      ],
      "metadata": {
        "id": "C2GiPDzAIik_"
      }
    },
    {
      "cell_type": "markdown",
      "source": [
        "List comprehension allows shorter way of writing a for loop"
      ],
      "metadata": {
        "id": "-SMS-BqiUpgh"
      }
    },
    {
      "cell_type": "markdown",
      "source": [
        "\n",
        "\n",
        "```\n",
        "#Syntax for list comprehension\n",
        "newList = [ expression(element) for element in oldList ] \n",
        "```\n",
        "\n"
      ],
      "metadata": {
        "id": "UH9me4Z1G6-Z"
      }
    },
    {
      "cell_type": "code",
      "source": [
        "## Iterate from 0 to 14 using for and range function\n"
      ],
      "metadata": {
        "id": "Ut9kL-IDIr6d"
      },
      "execution_count": null,
      "outputs": []
    },
    {
      "cell_type": "code",
      "source": [
        "## Iterate from 0 to 14 using list comprehension\n"
      ],
      "metadata": {
        "id": "lnPeFCPGIxIU"
      },
      "execution_count": null,
      "outputs": []
    },
    {
      "cell_type": "markdown",
      "source": [
        "List comprehension allows shorter way of writing a for loop"
      ],
      "metadata": {
        "id": "uv9PTpqlIhiU"
      }
    },
    {
      "cell_type": "markdown",
      "source": [
        "\n",
        "\n",
        "```\n",
        "#Syntax for list comprehension\n",
        "newList = [ expression(element) for element in oldList if condition ] \n",
        "```\n",
        "\n"
      ],
      "metadata": {
        "id": "-FGxREEIIhid"
      }
    },
    {
      "cell_type": "markdown",
      "source": [
        "### Conditionals in list comprehension"
      ],
      "metadata": {
        "id": "YWkyzD6ST0dE"
      }
    },
    {
      "cell_type": "code",
      "source": [
        "## Iterate from 0 to 14 using for and range function. Print only odd numbers\n"
      ],
      "metadata": {
        "id": "P7wCP-BiH3XU"
      },
      "execution_count": null,
      "outputs": []
    },
    {
      "cell_type": "code",
      "source": [
        "#Print all odd natural numbers till 13 using conditional list comprehension\n"
      ],
      "metadata": {
        "id": "1i1qyHnOT8-l"
      },
      "execution_count": null,
      "outputs": []
    },
    {
      "cell_type": "markdown",
      "source": [
        "### Performance comparison : List comprehension Vs For loop"
      ],
      "metadata": {
        "id": "B6LVXmytUTUM"
      }
    },
    {
      "cell_type": "markdown",
      "source": [
        "List comprehension is more efficient than for loop in terms of time and space."
      ],
      "metadata": {
        "id": "0E95eQuJQDhb"
      }
    },
    {
      "cell_type": "code",
      "source": [
        "#comparison of time difference between execution of list comprehension and for loop\n",
        "import time\n",
        "start_time = time.time()\n",
        "for_list = []\n",
        "for i in range(1000000):\n",
        "    for_list.append(i*i)\n",
        "print(\"time of execution using for loop :  %s seconds\" % (time.time() - start_time))\n",
        "\n",
        "current_time = time.time()\n",
        "comp_list = [i*i for i in range(1000000)]\n",
        "print(\"time of execution using list comprehension :  %s seconds\" % (time.time() - current_time))"
      ],
      "metadata": {
        "id": "mocf9U70Im2Y"
      },
      "execution_count": null,
      "outputs": []
    },
    {
      "cell_type": "markdown",
      "source": [
        "We can see from above example that list comprehension took almost half time for execution as compared to for loop for performing the same **task**"
      ],
      "metadata": {
        "id": "s17hFQ8ERvPV"
      }
    },
    {
      "cell_type": "markdown",
      "source": [
        "# Dict Comprehension"
      ],
      "metadata": {
        "id": "5iSXfl9gN6Cg"
      }
    },
    {
      "cell_type": "code",
      "source": [
        "#item price in dollars\n",
        "dollar_price = {'mic': 11.02, 'speaker': 12.5, 'headphones': 22.5}\n",
        "\n",
        "dollar_to_inr = 79.43"
      ],
      "metadata": {
        "id": "mMLedBGPN5fI"
      },
      "execution_count": null,
      "outputs": []
    },
    {
      "cell_type": "code",
      "source": [
        "# Item price in inr for all the dict items using For loop\n"
      ],
      "metadata": {
        "id": "0SC5G7EiO0N4"
      },
      "execution_count": null,
      "outputs": []
    },
    {
      "cell_type": "code",
      "source": [
        "# Item price in inr for all the dict items using Dict Comprehension\n"
      ],
      "metadata": {
        "id": "vLMo7gKIO0iO"
      },
      "execution_count": null,
      "outputs": []
    },
    {
      "cell_type": "markdown",
      "source": [
        "### Conditionals in Dict Comprehension"
      ],
      "metadata": {
        "id": "N5UqvRinP1Jf"
      }
    },
    {
      "cell_type": "code",
      "source": [
        "## From the below Dict filter the names whoes age is more than 40\n",
        "citi_age = {'Ramesh ': 38, 'Veer': 48, 'Aakruti': 57, 'Meneka': 33}\n",
        "\n"
      ],
      "metadata": {
        "id": "9KEVDje9Pyyn"
      },
      "execution_count": null,
      "outputs": []
    },
    {
      "cell_type": "markdown",
      "source": [
        "# Functions"
      ],
      "metadata": {
        "id": "mp-ejhWHMKbP"
      }
    },
    {
      "cell_type": "markdown",
      "source": [
        "in-built function.\n",
        "\n",
        "First, len() is called with the argument \"second\". The length of the string\n",
        "\"second\" is calculated, which is the number 6. Then len() returns the\n",
        "number 6 and replaces the function call with the value."
      ],
      "metadata": {
        "id": "9gxepGxhRjuM"
      }
    },
    {
      "cell_type": "code",
      "source": [
        "help(len)"
      ],
      "metadata": {
        "id": "6619tkRWUfY-"
      },
      "execution_count": null,
      "outputs": []
    },
    {
      "cell_type": "code",
      "source": [
        "num_letters = len(\"second\")  ## It is equivalent to num_letters = 6\n",
        "\n",
        "num_letters"
      ],
      "metadata": {
        "id": "N3N_uy3iRi5z"
      },
      "execution_count": null,
      "outputs": []
    },
    {
      "cell_type": "code",
      "source": [
        "l = [1, 2, 3, 4, 5]\n",
        "\n",
        "sum_of_list = l"
      ],
      "metadata": {
        "id": "fRoNkHJoSbYo"
      },
      "execution_count": null,
      "outputs": []
    },
    {
      "cell_type": "markdown",
      "source": [
        "Syntax of user defined function\n",
        "```\n",
        "def function_name(argument1, argument2):\n",
        "  statement 1\n",
        "  statement 2\n",
        "  ...\n",
        "  statement n\n",
        "```\n",
        "\n"
      ],
      "metadata": {
        "id": "7yo22SKMEpf5"
      }
    },
    {
      "cell_type": "markdown",
      "source": [
        "Example of a function"
      ],
      "metadata": {
        "id": "A-Sify0RFrXB"
      }
    },
    {
      "cell_type": "code",
      "execution_count": null,
      "metadata": {
        "id": "7qdLCD8JXZji"
      },
      "outputs": [],
      "source": [
        "# create a function to print multiplication of two numbers\n",
        "\n"
      ]
    },
    {
      "cell_type": "code",
      "source": [
        "help()"
      ],
      "metadata": {
        "id": "WRZsJTX5UriZ"
      },
      "execution_count": null,
      "outputs": []
    },
    {
      "cell_type": "code",
      "source": [
        "## Document the function\n",
        "def sum_two_numbers(a,b):\n",
        "  \"\"\" ... \"\"\"\n",
        "  print(a+b)\n",
        "\n",
        "sum_two_numbers(3,5)"
      ],
      "metadata": {
        "id": "diNbhBIhUxcb"
      },
      "execution_count": null,
      "outputs": []
    },
    {
      "cell_type": "code",
      "source": [
        "help(sum_two_numbers)"
      ],
      "metadata": {
        "id": "JD0N7z6-U4cV"
      },
      "execution_count": null,
      "outputs": []
    },
    {
      "cell_type": "markdown",
      "source": [
        "Function with default arguments"
      ],
      "metadata": {
        "id": "BM-DDSgVGYx5"
      }
    },
    {
      "cell_type": "code",
      "source": [
        "#call the given function twice ;  Once with both the arguments and once with only single arguments \n",
        "def welcome_msg(name, msg=\"Welcome to Python fundamental class!\"):\n",
        "    \"\"\"\n",
        "    ...\n",
        "    \"\"\"\n",
        "    print(\"Hello\", name + ', ' + msg)\n",
        "\n",
        "\n",
        "welcome_msg(\"Varun\")\n",
        "welcome_msg(\"Kiara\", \"How are you\")"
      ],
      "metadata": {
        "id": "iTEM-P99HJuv"
      },
      "execution_count": null,
      "outputs": []
    },
    {
      "cell_type": "markdown",
      "source": [
        "### Function with keyword argument"
      ],
      "metadata": {
        "id": "jghC1RTFH6Ho"
      }
    },
    {
      "cell_type": "code",
      "source": [
        "#Call the given function using keyword arguments name3=\"Varun\", name2=\"Karan\" and name3=\"Taslim\"\n"
      ],
      "metadata": {
        "id": "GHy18k68H_Mm"
      },
      "execution_count": null,
      "outputs": []
    },
    {
      "cell_type": "markdown",
      "source": [
        "### Function with variable argument"
      ],
      "metadata": {
        "id": "DbtSm_c0H_z7"
      }
    },
    {
      "cell_type": "code",
      "source": [
        "#Call the given function and print the name of third child : names of child's in order are Varun, Karan and Taslim\n"
      ],
      "metadata": {
        "id": "M4Ah0-JFIDgI"
      },
      "execution_count": null,
      "outputs": []
    },
    {
      "cell_type": "code",
      "source": [
        "# Call the given function using variable keyworded argument with first name as \"Hari\" and lastname as \"Khan\"\n"
      ],
      "metadata": {
        "id": "iXMrMR9D_PrG"
      },
      "execution_count": null,
      "outputs": []
    },
    {
      "cell_type": "markdown",
      "source": [
        "### Function with return value"
      ],
      "metadata": {
        "id": "I2tFvcel_VCg"
      }
    },
    {
      "cell_type": "code",
      "source": [
        "# calcute the output of following function with input value as 5\n",
        "\n"
      ],
      "metadata": {
        "id": "MLL-sh-o_brg"
      },
      "execution_count": null,
      "outputs": []
    },
    {
      "cell_type": "markdown",
      "source": [
        "### Function with multple return values"
      ],
      "metadata": {
        "id": "d0TqX_RhiDwP"
      }
    },
    {
      "cell_type": "code",
      "source": [
        "## Write a function \"calculation\" which returns the addition and substraction\n",
        "def calculation(a, b):\n",
        "    pass\n",
        "\n",
        "# get result in tuple format\n",
        "res = calculation(40, 10)\n",
        "print(type(res))\n",
        "print(res)"
      ],
      "metadata": {
        "id": "yCZohqXdiEJQ"
      },
      "execution_count": null,
      "outputs": []
    },
    {
      "cell_type": "markdown",
      "source": [
        "# Lambda/Anonymous Function"
      ],
      "metadata": {
        "id": "c1ROe6b5InQv"
      }
    },
    {
      "cell_type": "markdown",
      "source": [
        "Lambda functions are short anonymous functions that needs no name. They can take any number of arguments but returns only single expression."
      ],
      "metadata": {
        "id": "JG2s5_KRVewp"
      }
    },
    {
      "cell_type": "markdown",
      "source": [
        "\n",
        "\n",
        "```\n",
        "#Syntax for lambda\n",
        "lambda arguments : expression\n",
        "```\n",
        "\n"
      ],
      "metadata": {
        "id": "NLN-XzfFatzd"
      }
    },
    {
      "cell_type": "markdown",
      "source": [
        "### Lambda function Vs Regular function"
      ],
      "metadata": {
        "id": "S4XNe9HnWH1j"
      }
    },
    {
      "cell_type": "code",
      "source": [
        "#Multiply variable by 3 using lambda function\n",
        "\n",
        "\n",
        "#Multiply variable by 3 using regular function\n",
        "def multiplyby3(x):\n",
        "  return x*3"
      ],
      "metadata": {
        "id": "99mF49vkI2DE"
      },
      "execution_count": null,
      "outputs": []
    },
    {
      "cell_type": "markdown",
      "source": [
        "### Lambda function with conditional statement"
      ],
      "metadata": {
        "id": "ecQnk2DjjOUV"
      }
    },
    {
      "cell_type": "code",
      "source": [
        "# Use Lambda function with if-else to find a cube a positive number and return None if negative\n"
      ],
      "metadata": {
        "id": "IBkksS3tkRpx"
      },
      "execution_count": null,
      "outputs": []
    },
    {
      "cell_type": "markdown",
      "source": [
        "### Lambda functions within user defined function"
      ],
      "metadata": {
        "id": "JpW7HOjslljD"
      }
    },
    {
      "cell_type": "code",
      "source": [
        "#example of lambda function within user defined function\n"
      ],
      "metadata": {
        "id": "EF_5pSTuluhq"
      },
      "execution_count": null,
      "outputs": []
    },
    {
      "cell_type": "markdown",
      "source": [
        "# Some important inbuilt high order functions"
      ],
      "metadata": {
        "id": "ul_wBZJHI2QF"
      }
    },
    {
      "cell_type": "markdown",
      "source": [
        "## Map function"
      ],
      "metadata": {
        "id": "cGZe0etZI6G8"
      }
    },
    {
      "cell_type": "markdown",
      "source": [
        "\n",
        "\n",
        "```\n",
        "#syntax of map function\n",
        "map(function, iterables) \n",
        "```\n",
        "\n"
      ],
      "metadata": {
        "id": "dtULvZuZp8Ax"
      }
    },
    {
      "cell_type": "code",
      "source": [
        "#Print cubes of all natural numbers till 5 using map function\n"
      ],
      "metadata": {
        "id": "ye0eoGb5n23O"
      },
      "execution_count": null,
      "outputs": []
    },
    {
      "cell_type": "markdown",
      "source": [
        "### Map with lambda function"
      ],
      "metadata": {
        "id": "sQraUp7OodTW"
      }
    },
    {
      "cell_type": "code",
      "source": [
        "#Print cubes from 1 to 5 using map and lambda cube function\n"
      ],
      "metadata": {
        "id": "VYQ6QLT2ohWb"
      },
      "execution_count": null,
      "outputs": []
    },
    {
      "cell_type": "markdown",
      "source": [
        "### Passing Multiple Iterators to map() Using Lambda"
      ],
      "metadata": {
        "id": "WIMYyw1t5Ygh"
      }
    },
    {
      "cell_type": "code",
      "source": [],
      "metadata": {
        "id": "V9q5Tzb25ZM2"
      },
      "execution_count": null,
      "outputs": []
    },
    {
      "cell_type": "markdown",
      "source": [
        "## Filter function"
      ],
      "metadata": {
        "id": "VxKeQRX3I9-G"
      }
    },
    {
      "cell_type": "markdown",
      "source": [
        "Filter function takes function and an iterable sequence and allows us to extract items that satisfy a given condition."
      ],
      "metadata": {
        "id": "HYF7UqH3tUJn"
      }
    },
    {
      "cell_type": "markdown",
      "source": [
        "\n",
        "\n",
        "```\n",
        "Syntax of filter function\n",
        "filter(function, iterable)\n",
        "```\n",
        "\n"
      ],
      "metadata": {
        "id": "AyW8ixMStTE2"
      }
    },
    {
      "cell_type": "markdown",
      "source": [
        "### Example of Filter function use\n",
        "\n"
      ],
      "metadata": {
        "id": "FqkDS5tStiZd"
      }
    },
    {
      "cell_type": "code",
      "source": [
        "#print even numbers from given list using filter function\n",
        "nums = [1, 43, 89, 10, 22, 88, 78]\n"
      ],
      "metadata": {
        "id": "cstoXmt_uD22"
      },
      "execution_count": null,
      "outputs": []
    },
    {
      "cell_type": "markdown",
      "source": [
        "### Filter function with lambda function"
      ],
      "metadata": {
        "id": "swwAYWU5uYD8"
      }
    },
    {
      "cell_type": "code",
      "source": [
        "##print even numbers from given list using filter and lambda function\n",
        "nums = [1, 43, 89, 10, 22, 88, 78]\n"
      ],
      "metadata": {
        "id": "jaI-vieLuhir"
      },
      "execution_count": null,
      "outputs": []
    },
    {
      "cell_type": "markdown",
      "source": [
        "## Reduce Function"
      ],
      "metadata": {
        "id": "mjhTItObJMa3"
      }
    },
    {
      "cell_type": "markdown",
      "source": [
        "### Reduce with Lambda function"
      ],
      "metadata": {
        "id": "R0s1t0MExBN0"
      }
    },
    {
      "cell_type": "code",
      "source": [
        "# Sum of first three natural odd integers using reduce function\n",
        "from functools import reduce \n",
        "nums = [1, 3, 5]\n",
        "\n"
      ],
      "metadata": {
        "id": "4tg4ICnoJW6f"
      },
      "execution_count": null,
      "outputs": []
    }
  ]
}