{
  "nbformat": 4,
  "nbformat_minor": 0,
  "metadata": {
    "colab": {
      "provenance": []
    },
    "kernelspec": {
      "name": "python3",
      "display_name": "Python 3"
    },
    "language_info": {
      "name": "python"
    }
  },
  "cells": [
    {
      "cell_type": "markdown",
      "source": [
        "**Q.1 Write a function to print first name and last name by taking first and last name as arguments**"
      ],
      "metadata": {
        "id": "aANStkhGiATl"
      }
    },
    {
      "cell_type": "code",
      "execution_count": null,
      "metadata": {
        "colab": {
          "base_uri": "https://localhost:8080/"
        },
        "id": "iUMpBbEShQJR",
        "outputId": "904b8db3-5e5e-4e95-970c-18e41ae15292"
      },
      "outputs": [
        {
          "output_type": "stream",
          "name": "stdout",
          "text": [
            "My name is : Arnav Sharma\n"
          ]
        }
      ],
      "source": [
        "# Write a function to print first name and last name by taking first and last name as arguments\n",
        "\n"
      ]
    },
    {
      "cell_type": "markdown",
      "source": [
        "**Q.2 Print if number is odd or even for all the numbers in the given list**\n",
        "\n",
        "```\n",
        "Input:\n",
        "num_list = [10,23,24,90,43, 83, 89]\n",
        "\n",
        "Output:\n",
        "['even', 'odd', 'even', 'even', 'odd', 'odd', 'odd']\n",
        "```"
      ],
      "metadata": {
        "id": "ntSoINiEiKqO"
      }
    },
    {
      "cell_type": "code",
      "source": [
        "#Use list comprehension\n"
      ],
      "metadata": {
        "colab": {
          "base_uri": "https://localhost:8080/"
        },
        "id": "IAKXSUmKhwkk",
        "outputId": "d2c3ed96-a0d1-49ee-951c-2fb56ec12908"
      },
      "execution_count": null,
      "outputs": [
        {
          "output_type": "stream",
          "name": "stdout",
          "text": [
            "['even', 'odd', 'even', 'even', 'odd', 'odd', 'odd']\n"
          ]
        }
      ]
    },
    {
      "cell_type": "markdown",
      "source": [
        "**Q.3 Sort the name of states according to given codes in ascending order using lamda**\n",
        "\n",
        "```State_and_codes= [('Maharashtra', 102), ('Madhya Pradesh', 80), ('Tamil Nadu', 97), ('West Bengal', 78)]```"
      ],
      "metadata": {
        "id": "ImYu3xDkjXMd"
      }
    },
    {
      "cell_type": "code",
      "source": [
        "# Hint : use lambda inside sort function\n"
      ],
      "metadata": {
        "colab": {
          "base_uri": "https://localhost:8080/"
        },
        "id": "r97myqBci5rK",
        "outputId": "d653aba9-c869-425a-a4ef-4a2ca1e586af"
      },
      "execution_count": null,
      "outputs": [
        {
          "output_type": "stream",
          "name": "stdout",
          "text": [
            "Original list of tuples:\n",
            "[('Maharashtra', 102), ('Madhya Pradesh', 80), ('Tamil Nadu', 97), ('West Bengal', 78)]\n",
            "\n",
            "Sorting the List of Tuples:\n",
            "[('West Bengal', 78), ('Madhya Pradesh', 80), ('Tamil Nadu', 97), ('Maharashtra', 102)]\n"
          ]
        }
      ]
    },
    {
      "cell_type": "markdown",
      "source": [
        "**Q.4 Write a function that takes in a list and returns a new list with all the unique elements (without using Python inbuilt functions) from the given list**"
      ],
      "metadata": {
        "id": "fm6KLoh0g1Ic"
      }
    },
    {
      "cell_type": "code",
      "source": [],
      "metadata": {
        "colab": {
          "base_uri": "https://localhost:8080/"
        },
        "id": "OBjKTnSsfC48",
        "outputId": "e9f004b6-9043-4b6d-e2a9-f020644f6634"
      },
      "execution_count": null,
      "outputs": [
        {
          "output_type": "stream",
          "name": "stdout",
          "text": [
            "[10, 3, 78, 90, 55, 34, 98]\n"
          ]
        }
      ]
    },
    {
      "cell_type": "markdown",
      "source": [
        "**Q.5 Write a Python function that checks whether a passed string is palindrome or not.**\n",
        "\n",
        "Note: A palindrome is a word, phrase, or sequence that reads the same backward as forward, e.g. step on no pets."
      ],
      "metadata": {
        "id": "JoC0arzZH9or"
      }
    },
    {
      "cell_type": "code",
      "source": [],
      "metadata": {
        "id": "Vp8pLAmAiA4c",
        "colab": {
          "base_uri": "https://localhost:8080/"
        },
        "outputId": "d646575d-2433-4f53-87d5-31a34a77c6c0"
      },
      "execution_count": null,
      "outputs": [
        {
          "output_type": "stream",
          "name": "stdout",
          "text": [
            "False\n"
          ]
        }
      ]
    },
    {
      "cell_type": "markdown",
      "source": [
        "**Q.6 Define a function that returns Factorial of a number.**\n",
        "\n",
        "```6! = 6 * 5 * 4 * 3 * 2 * 1 = 720```"
      ],
      "metadata": {
        "id": "fEgKA7Lgmi6N"
      }
    },
    {
      "cell_type": "code",
      "source": [
        "\n",
        "    # check if the number is negative, positive or zero\n"
      ],
      "metadata": {
        "colab": {
          "base_uri": "https://localhost:8080/"
        },
        "id": "XkSIY33nmje7",
        "outputId": "edb9d153-a754-45f3-8ab4-da252447843f"
      },
      "execution_count": null,
      "outputs": [
        {
          "output_type": "execute_result",
          "data": {
            "text/plain": [
              "('The factorial of', 6, 'is', 720)"
            ]
          },
          "metadata": {},
          "execution_count": 23
        }
      ]
    },
    {
      "cell_type": "markdown",
      "source": [
        "**Q.7 Write a function prodDigits() that inputs a number and returns the product of digits of that number.**\n",
        "\n",
        "Input: 54 <br>\n",
        "Output: 20  <br>\n",
        "\n",
        "Input: 34 <br>\n",
        "Output: 12  <br>"
      ],
      "metadata": {
        "id": "pmS-n1rNn1fg"
      }
    },
    {
      "cell_type": "code",
      "source": [
        "# num = int(input(\"Enter a number: \"))\n"
      ],
      "metadata": {
        "colab": {
          "base_uri": "https://localhost:8080/"
        },
        "id": "Jbe-k8CmnYyI",
        "outputId": "94fddd6a-c1e5-4f96-e4e6-9ec9689a8d25"
      },
      "execution_count": null,
      "outputs": [
        {
          "output_type": "stream",
          "name": "stdout",
          "text": [
            "Product of all digits of 34 is: 12\n"
          ]
        }
      ]
    },
    {
      "cell_type": "markdown",
      "source": [
        "**Q.8 What is the output of following function?**\n",
        "\n",
        "```\n",
        "def func(x, y) :\n",
        "  for i in range(1, x) : \n",
        "    x = x + y\n",
        "    y += 1\n",
        "  return x, y\n",
        "\n",
        "func(3, 2)\n",
        "```\n",
        "\n",
        "A. 3, 2  <br>\n",
        "B. 8, 4  <br>\n",
        "C. 3, 1  <br>\n",
        "D. 8, 2  <br>"
      ],
      "metadata": {
        "id": "A9GUpdIhpUJT"
      }
    },
    {
      "cell_type": "code",
      "source": [],
      "metadata": {
        "id": "Jgke88qyoAGE"
      },
      "execution_count": null,
      "outputs": []
    },
    {
      "cell_type": "markdown",
      "source": [
        "**Q.9 Write an Lambda function to convert below list of mixed values into int datatype.**\n",
        "\n",
        "```l = [1, 2, \"3\", 4, 5.0]```\n",
        "\n",
        "Note: Use `isinstance` function to validate datatype."
      ],
      "metadata": {
        "id": "-lRKzG64rcfb"
      }
    },
    {
      "cell_type": "code",
      "source": [],
      "metadata": {
        "id": "bGv1A3lcpvWU"
      },
      "execution_count": null,
      "outputs": []
    },
    {
      "cell_type": "code",
      "source": [],
      "metadata": {
        "colab": {
          "base_uri": "https://localhost:8080/"
        },
        "id": "RgTC7Ua8rvSl",
        "outputId": "4356d131-b8b0-4a1f-f539-cef5b854e236"
      },
      "execution_count": null,
      "outputs": [
        {
          "output_type": "execute_result",
          "data": {
            "text/plain": [
              "[1, 2, 3, 4, 5]"
            ]
          },
          "metadata": {},
          "execution_count": 10
        }
      ]
    },
    {
      "cell_type": "markdown",
      "source": [
        "**Q.10 What is the output of following code?**\n",
        "```\n",
        "func = lambda x: return x\n",
        "print(func(2))\n",
        "```\n",
        "\n",
        "A. ```SyntaxError``` <br>\n",
        "B. 2  <br>\n",
        "C. 3  <br>\n",
        "D. 1  <br>\n"
      ],
      "metadata": {
        "id": "bIYGIR2T3mEP"
      }
    },
    {
      "cell_type": "code",
      "source": [],
      "metadata": {
        "id": "agJzeM4XtQRN"
      },
      "execution_count": null,
      "outputs": []
    },
    {
      "cell_type": "markdown",
      "source": [
        "**Q 11: What would be the output of the following code snippet?**\n",
        "\n",
        "```(lambda x: (x + 3) * 5 / 2)(3)```\n",
        "\n",
        "A. 15.0 <br>\n",
        "B. 0 <br>\n",
        "C. ```SyntaxError``` <br>\n",
        "D. 30.0 <br>"
      ],
      "metadata": {
        "id": "r631VWVh-s35"
      }
    },
    {
      "cell_type": "code",
      "source": [],
      "metadata": {
        "id": "yLUSXEJp320M",
        "colab": {
          "base_uri": "https://localhost:8080/"
        },
        "outputId": "543b7d59-76b3-49b9-bd4e-76163f219aec"
      },
      "execution_count": null,
      "outputs": [
        {
          "output_type": "execute_result",
          "data": {
            "text/plain": [
              "15.0"
            ]
          },
          "metadata": {},
          "execution_count": 12
        }
      ]
    },
    {
      "cell_type": "markdown",
      "source": [
        "**Q.12 Write a map function that multiplies 3 to each item in the list.**\n",
        "\n",
        "```num_list=[10, 20, 30, 40, 50, 60]```"
      ],
      "metadata": {
        "id": "dL8zyXJ-mZdf"
      }
    },
    {
      "cell_type": "code",
      "source": [
        "#Write your solution here\n",
        "#num_list_mapped = \n"
      ],
      "metadata": {
        "id": "qJcwhKsIf_XR",
        "colab": {
          "base_uri": "https://localhost:8080/"
        },
        "outputId": "dc4ea2a8-9312-45ab-ff60-8680c37f7363"
      },
      "execution_count": null,
      "outputs": [
        {
          "output_type": "stream",
          "name": "stdout",
          "text": [
            "[30, 60, 90, 120, 150, 180]\n"
          ]
        }
      ]
    },
    {
      "cell_type": "markdown",
      "source": [
        "**Q.13 Filter and print all the vowels using filter function from the word \"relevel\"**\n"
      ],
      "metadata": {
        "id": "oqYyOfBPivm0"
      }
    },
    {
      "cell_type": "code",
      "source": [
        "# function that filters vowels\n",
        "  \n",
        "# using filter function\n"
      ],
      "metadata": {
        "id": "IWOh808lix9W",
        "colab": {
          "base_uri": "https://localhost:8080/"
        },
        "outputId": "3f7da50d-a617-4747-f2ef-6825d6cb056f"
      },
      "execution_count": null,
      "outputs": [
        {
          "output_type": "stream",
          "name": "stdout",
          "text": [
            "The filtered letters are:\n",
            "e\n",
            "e\n",
            "e\n"
          ]
        }
      ]
    },
    {
      "cell_type": "markdown",
      "source": [
        "**Q.14 Find the factorial of 6 using reduce function**\n",
        "\n",
        "```6! = 6 * 5 * 4 * 3 * 2 * 1 = 720```"
      ],
      "metadata": {
        "id": "ZsDOXHUni0pi"
      }
    },
    {
      "cell_type": "code",
      "source": [
        "# Define a factorial function that uses the reduce() function\n"
      ],
      "metadata": {
        "id": "lJxe6LmAi3Qa",
        "colab": {
          "base_uri": "https://localhost:8080/"
        },
        "outputId": "df74bc04-26bc-40b7-f62f-1cbb86b86b34"
      },
      "execution_count": null,
      "outputs": [
        {
          "output_type": "execute_result",
          "data": {
            "text/plain": [
              "720"
            ]
          },
          "metadata": {},
          "execution_count": 15
        }
      ]
    },
    {
      "cell_type": "markdown",
      "source": [
        "**Q.15 Convert list of strings into integer**\n",
        "\n",
        "```str_nums = [\"4\", \"8\", \"6\", \"5\", \"3\", \"2\", \"8\", \"9\", \"2\", \"5\"]```"
      ],
      "metadata": {
        "id": "BObyWgWyUV0a"
      }
    },
    {
      "cell_type": "code",
      "source": [],
      "metadata": {
        "colab": {
          "base_uri": "https://localhost:8080/"
        },
        "id": "Qf-kq5sUUWWp",
        "outputId": "93c5e2a3-e58a-4a16-d843-e4fe08dfe270"
      },
      "execution_count": null,
      "outputs": [
        {
          "output_type": "execute_result",
          "data": {
            "text/plain": [
              "[4, 8, 6, 5, 3, 2, 8, 9, 2, 5]"
            ]
          },
          "metadata": {},
          "execution_count": 16
        }
      ]
    },
    {
      "cell_type": "markdown",
      "source": [
        "**Q 16: Converting Temperatures (From Fahrenheit to Celsius and vice versa) using a map function**\n",
        "\n",
        "Fahrenheit to Celsius formula conversion: <br>\n",
        "Fahrenheit (F) = 9 / 5 * celsius + 32 <br>\n",
        "\n",
        "Celsius (C) = (fahrenheit - 32) * 5 / 9\n",
        "\n",
        "Convert following celsius temperature to fahrenheit. <br>\n",
        "celsius_temps = [100, 40, 80]\n",
        "\n",
        "Convert following fahrenheit temperature to celsius. <br>\n",
        "fahr_temps = [212, 104, 176]"
      ],
      "metadata": {
        "id": "xXFj-f4RWfRA"
      }
    },
    {
      "cell_type": "code",
      "source": [],
      "metadata": {
        "id": "82k8dFW9VI-c"
      },
      "execution_count": null,
      "outputs": []
    },
    {
      "cell_type": "code",
      "source": [],
      "metadata": {
        "colab": {
          "base_uri": "https://localhost:8080/"
        },
        "id": "qP7W_pZfXq_s",
        "outputId": "f57f3872-ab54-4118-c3c0-cff219448ea8"
      },
      "execution_count": null,
      "outputs": [
        {
          "output_type": "execute_result",
          "data": {
            "text/plain": [
              "[212.0, 104.0, 176.0]"
            ]
          },
          "metadata": {},
          "execution_count": 18
        }
      ]
    },
    {
      "cell_type": "code",
      "source": [],
      "metadata": {
        "colab": {
          "base_uri": "https://localhost:8080/"
        },
        "id": "yRuk4bLVXtxn",
        "outputId": "bb04d9e7-d731-43a8-b451-2bbc1b3aadb7"
      },
      "execution_count": null,
      "outputs": [
        {
          "output_type": "execute_result",
          "data": {
            "text/plain": [
              "[100.0, 40.0, 80.0]"
            ]
          },
          "metadata": {},
          "execution_count": 19
        }
      ]
    },
    {
      "cell_type": "markdown",
      "source": [
        "**Q 17: Write a function to check if following words are palindrome**\n",
        "\n",
        "words = (\"filter\", \"Ana\", \"hello\", \"world\", \"madam\", \"racecar\")"
      ],
      "metadata": {
        "id": "vNTdM1Uhcz-q"
      }
    },
    {
      "cell_type": "code",
      "source": [],
      "metadata": {
        "id": "UK3i9ptuXxAz"
      },
      "execution_count": null,
      "outputs": []
    },
    {
      "cell_type": "code",
      "source": [],
      "metadata": {
        "colab": {
          "base_uri": "https://localhost:8080/"
        },
        "id": "S2Kqr28UdDMQ",
        "outputId": "06d05f1f-ffa3-48a5-9bb0-8b4eaf6ded62"
      },
      "execution_count": null,
      "outputs": [
        {
          "output_type": "execute_result",
          "data": {
            "text/plain": [
              "['Ana', 'madam', 'racecar']"
            ]
          },
          "metadata": {},
          "execution_count": 21
        }
      ]
    },
    {
      "cell_type": "code",
      "source": [],
      "metadata": {
        "id": "RaUe3KZNdTc1"
      },
      "execution_count": null,
      "outputs": []
    }
  ]
}